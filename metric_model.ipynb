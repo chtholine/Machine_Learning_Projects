{
 "cells": [
  {
   "cell_type": "markdown",
   "source": [
    "# Metric Model"
   ],
   "metadata": {
    "collapsed": false
   },
   "id": "7218a36262abd069"
  },
  {
   "cell_type": "markdown",
   "source": [
    "**Import Dependencies**"
   ],
   "metadata": {
    "collapsed": false
   },
   "id": "3bd2d9fe06fd2d7a"
  },
  {
   "cell_type": "code",
   "execution_count": 2,
   "outputs": [],
   "source": [
    "import pandas as pd\n",
    "import numpy as np\n",
    "import seaborn as sns\n",
    "from matplotlib import pyplot as plt\n",
    "from sklearn.model_selection import train_test_split, GridSearchCV\n",
    "from sklearn.neighbors import KNeighborsClassifier\n",
    "from sklearn.metrics import accuracy_score\n",
    "from sklearn.preprocessing import LabelEncoder, StandardScaler"
   ],
   "metadata": {
    "collapsed": false,
    "ExecuteTime": {
     "end_time": "2023-08-16T16:33:42.877062848Z",
     "start_time": "2023-08-16T16:33:42.616864973Z"
    }
   },
   "id": "f95efe22a4dcff81"
  },
  {
   "cell_type": "markdown",
   "source": [
    "**Preprocessing data function**"
   ],
   "metadata": {
    "collapsed": false
   },
   "id": "f55f792e0a67efd7"
  },
  {
   "cell_type": "code",
   "execution_count": 3,
   "outputs": [],
   "source": [
    "def preprocess_data(url, column_names):\n",
    "    data = pd.read_csv(url, names=column_names)\n",
    "    data[\"Volume\"] = (\n",
    "        (4 / 3) * np.pi * (data[\"Length\"] * data[\"Diameter\"] * data[\"Height\"])\n",
    "    )\n",
    "    label_encoder = LabelEncoder()\n",
    "    data[\"Sex\"] = label_encoder.fit_transform(data[\"Sex\"])\n",
    "    X = data.drop([\"Rings\"], axis=1)\n",
    "    y_age = data[\"Rings\"]\n",
    "    y_sex = data[\"Sex\"]\n",
    "    return X, y_age, y_sex"
   ],
   "metadata": {
    "collapsed": false,
    "ExecuteTime": {
     "end_time": "2023-08-16T16:33:42.917393024Z",
     "start_time": "2023-08-16T16:33:42.916679451Z"
    }
   },
   "id": "ee4e67ddf5e64395"
  },
  {
   "cell_type": "markdown",
   "source": [
    "**Scaling and splitting data function**"
   ],
   "metadata": {
    "collapsed": false
   },
   "id": "7e5b611f1c51473f"
  },
  {
   "cell_type": "code",
   "execution_count": 4,
   "outputs": [],
   "source": [
    "def split_data(X, y_age, y_sex):\n",
    "    X_scaled = StandardScaler().fit_transform(X)\n",
    "    (\n",
    "        X_train,\n",
    "        X_test,\n",
    "        y_age_train,\n",
    "        y_age_test,\n",
    "        y_sex_train,\n",
    "        y_sex_test,\n",
    "    ) = train_test_split(X_scaled, y_age, y_sex, test_size=0.2, random_state=42)\n",
    "    X_train, X_val, y_age_train, y_age_val, y_sex_train, y_sex_val = train_test_split(\n",
    "        X_train, y_age_train, y_sex_train, test_size=0.2, random_state=42\n",
    "    )\n",
    "    return (\n",
    "        X_train,\n",
    "        X_val,\n",
    "        X_test,\n",
    "        y_age_train,\n",
    "        y_age_val,\n",
    "        y_age_test,\n",
    "        y_sex_train,\n",
    "        y_sex_val,\n",
    "        y_sex_test,\n",
    "    )"
   ],
   "metadata": {
    "collapsed": false,
    "ExecuteTime": {
     "end_time": "2023-08-16T16:33:42.917923193Z",
     "start_time": "2023-08-16T16:33:42.917194464Z"
    }
   },
   "id": "842fe15036208cde"
  },
  {
   "cell_type": "markdown",
   "source": [
    "**Model training function**"
   ],
   "metadata": {
    "collapsed": false
   },
   "id": "9fe6ee7b130981f7"
  },
  {
   "cell_type": "code",
   "execution_count": 5,
   "outputs": [],
   "source": [
    "def train_model(X_train, y_train, param_grid):\n",
    "    model = KNeighborsClassifier()\n",
    "    grid_search = GridSearchCV(model, param_grid, cv=5)\n",
    "    grid_search.fit(X_train, y_train)\n",
    "    best_params = grid_search.best_params_\n",
    "    best_model = KNeighborsClassifier(**best_params)\n",
    "    best_model.fit(X_train, y_train)\n",
    "    return best_model"
   ],
   "metadata": {
    "collapsed": false,
    "ExecuteTime": {
     "end_time": "2023-08-16T16:33:42.918236642Z",
     "start_time": "2023-08-16T16:33:42.917334217Z"
    }
   },
   "id": "99b092dddfce8cd"
  },
  {
   "cell_type": "markdown",
   "source": [
    "**Evaluation function**"
   ],
   "metadata": {
    "collapsed": false
   },
   "id": "d78a9f70ee8c3182"
  },
  {
   "cell_type": "code",
   "execution_count": 6,
   "outputs": [],
   "source": [
    "def evaluate_model(model, X_val, y_val):\n",
    "    y_val_pred = model.predict(X_val)\n",
    "    return accuracy_score(y_val, y_val_pred)"
   ],
   "metadata": {
    "collapsed": false,
    "ExecuteTime": {
     "end_time": "2023-08-16T16:33:42.919498752Z",
     "start_time": "2023-08-16T16:33:42.917542206Z"
    }
   },
   "id": "9bd2be778c6d6365"
  },
  {
   "cell_type": "markdown",
   "source": [
    "**Load and preprocess the data**"
   ],
   "metadata": {
    "collapsed": false
   },
   "id": "6a41b908d1226a69"
  },
  {
   "cell_type": "code",
   "execution_count": 7,
   "outputs": [],
   "source": [
    "url = \"https://archive.ics.uci.edu/ml/machine-learning-databases/abalone/abalone.data\"\n",
    "column_names = [\n",
    "    \"Sex\",\n",
    "    \"Length\",\n",
    "    \"Diameter\",\n",
    "    \"Height\",\n",
    "    \"Whole weight\",\n",
    "    \"Shucked weight\",\n",
    "    \"Viscera weight\",\n",
    "    \"Shell weight\",\n",
    "    \"Rings\",\n",
    "]\n",
    "X, y_age, y_sex = preprocess_data(url, column_names)"
   ],
   "metadata": {
    "collapsed": false,
    "ExecuteTime": {
     "end_time": "2023-08-16T16:33:45.966273422Z",
     "start_time": "2023-08-16T16:33:42.917672461Z"
    }
   },
   "id": "99f9ba492c66b3b8"
  },
  {
   "cell_type": "markdown",
   "source": [
    "**Split the data into train, validation and test sets**"
   ],
   "metadata": {
    "collapsed": false
   },
   "id": "8ee9698161c0bd7c"
  },
  {
   "cell_type": "code",
   "execution_count": 8,
   "outputs": [],
   "source": [
    "(\n",
    "    X_train,\n",
    "    X_val,\n",
    "    X_test,\n",
    "    y_age_train,\n",
    "    y_age_val,\n",
    "    y_age_test,\n",
    "    y_sex_train,\n",
    "    y_sex_val,\n",
    "    y_sex_test,\n",
    ") = split_data(X, y_age, y_sex)"
   ],
   "metadata": {
    "collapsed": false,
    "ExecuteTime": {
     "end_time": "2023-08-16T16:33:45.967921267Z",
     "start_time": "2023-08-16T16:33:45.958046764Z"
    }
   },
   "id": "aab7adf8095a148f"
  },
  {
   "cell_type": "markdown",
   "source": [
    "**Train and evaluate age classification model**"
   ],
   "metadata": {
    "collapsed": false
   },
   "id": "b75fdc88959a525d"
  },
  {
   "cell_type": "code",
   "execution_count": 9,
   "outputs": [
    {
     "name": "stderr",
     "output_type": "stream",
     "text": [
      "/home/chtholine/PycharmProjects/medvedenko_ml_tasks/venv/lib64/python3.11/site-packages/sklearn/model_selection/_split.py:725: UserWarning: The least populated class in y has only 1 members, which is less than n_splits=5.\n",
      "  warnings.warn(\n"
     ]
    },
    {
     "name": "stdout",
     "output_type": "stream",
     "text": [
      "Accuracy for Age Classification (Best Model): 0.242152466367713\n",
      "Accuracy for Age Classification (Best Model. Test): 0.24401913875598086\n"
     ]
    }
   ],
   "source": [
    "age_param_grid = {\"n_neighbors\": [3, 5, 7, 9]}\n",
    "age_model = train_model(X_train, y_age_train, age_param_grid)\n",
    "age_accuracy = evaluate_model(age_model, X_val, y_age_val)\n",
    "age_accuracy_test = evaluate_model(age_model, X_test, y_age_test)\n",
    "print(f\"Accuracy for Age Classification (Best Model): {age_accuracy}\")\n",
    "print(f\"Accuracy for Age Classification (Best Model. Test): {age_accuracy_test}\")"
   ],
   "metadata": {
    "collapsed": false,
    "ExecuteTime": {
     "end_time": "2023-08-16T16:33:46.531604222Z",
     "start_time": "2023-08-16T16:33:45.970998494Z"
    }
   },
   "id": "d0a57b49f4a07839"
  },
  {
   "cell_type": "markdown",
   "source": [
    "**Train and evaluate sex classification model**"
   ],
   "metadata": {
    "collapsed": false
   },
   "id": "1ba87978664301cc"
  },
  {
   "cell_type": "code",
   "execution_count": 10,
   "outputs": [
    {
     "name": "stdout",
     "output_type": "stream",
     "text": [
      "Accuracy for Sex Classification (Best Model): 0.9985052316890882\n",
      "Accuracy for Sex Classification (Best Model. Test): 1.0\n"
     ]
    }
   ],
   "source": [
    "sex_param_grid = {\"n_neighbors\": [3, 5, 7, 9]}\n",
    "sex_model = train_model(X_train, y_sex_train, sex_param_grid)\n",
    "sex_accuracy = evaluate_model(sex_model, X_val, y_sex_val)\n",
    "sex_accuracy_test = evaluate_model(sex_model, X_test, y_sex_test)\n",
    "print(f\"Accuracy for Sex Classification (Best Model): {sex_accuracy}\")\n",
    "print(f\"Accuracy for Sex Classification (Best Model. Test): {sex_accuracy_test}\")"
   ],
   "metadata": {
    "collapsed": false,
    "ExecuteTime": {
     "end_time": "2023-08-16T16:33:47.045318354Z",
     "start_time": "2023-08-16T16:33:46.531039552Z"
    }
   },
   "id": "e6c53260aaadf068"
  },
  {
   "cell_type": "markdown",
   "source": [
    "**Visualization**"
   ],
   "metadata": {
    "collapsed": false
   },
   "id": "5159cc707d43d6fa"
  },
  {
   "cell_type": "code",
   "execution_count": 11,
   "outputs": [
    {
     "data": {
      "text/plain": "<Figure size 1200x600 with 2 Axes>",
      "image/png": "[encoded data removed]"
     },
     "metadata": {},
     "output_type": "display_data"
    }
   ],
   "source": [
    "# Create a 1x2 grid for subplots\n",
    "fig, axes = plt.subplots(1, 2, figsize=(12, 6))\n",
    "\n",
    "# Visualize the distribution of ages\n",
    "sns.histplot(y_age, bins=30, kde=True, ax=axes[0])\n",
    "axes[0].set_title(\"Distribution of Ages\")\n",
    "axes[0].set_xlabel(\"Age\")\n",
    "axes[0].set_ylabel(\"Count\")\n",
    "\n",
    "# Visualize the number of abalones by sex\n",
    "data = pd.read_csv(url, names=column_names)\n",
    "sex_counts = data[\"Sex\"].value_counts()\n",
    "axes[1].bar(sex_counts.index, sex_counts.values)\n",
    "axes[1].set_xlabel(\"Sex\")\n",
    "axes[1].set_ylabel(\"Count\")\n",
    "axes[1].set_title(\"Abalone Count by Sex\")\n",
    "axes[1].set_xticks(range(len(sex_counts.index)))\n",
    "axes[1].set_xticklabels(sex_counts.index)\n",
    "\n",
    "# Adjust layout and display the subplots\n",
    "plt.tight_layout()\n",
    "plt.show()"
   ],
   "metadata": {
    "collapsed": false,
    "ExecuteTime": {
     "end_time": "2023-08-16T16:33:49.800392548Z",
     "start_time": "2023-08-16T16:33:47.048458019Z"
    }
   },
   "id": "ea2a814158b9e153"
  }
 ],
 "metadata": {
  "kernelspec": {
   "display_name": "Python 3",
   "language": "python",
   "name": "python3"
  },
  "language_info": {
   "codemirror_mode": {
    "name": "ipython",
    "version": 2
   },
   "file_extension": ".py",
   "mimetype": "text/x-python",
   "name": "python",
   "nbconvert_exporter": "python",
   "pygments_lexer": "ipython2",
   "version": "2.7.6"
  }
 },
 "nbformat": 4,
 "nbformat_minor": 5
}
