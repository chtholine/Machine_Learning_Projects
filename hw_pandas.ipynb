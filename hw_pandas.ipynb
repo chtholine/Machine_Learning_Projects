{
 "cells": [
  {
   "cell_type": "markdown",
   "source": [
    "Материал распространяется на условиях лицензии [Creative Commons CC BY-NC-SA 4.0](https://creativecommons.org/licenses/by-nc-sa/4.0/). Можно использовать в любых целях (редактировать, поправлять и брать за основу), кроме коммерческих, но с обязательным упоминанием автора материала."
   ],
   "metadata": {
    "collapsed": false
   }
  },
  {
   "cell_type": "markdown",
   "metadata": {},
   "source": [
    "# <center>Домашнее задание № 1 (демо).<br> Анализ данных по доходу населения UCI Adult</center>"
   ]
  },
  {
   "cell_type": "markdown",
   "source": [
    "**В задании предлагается с помощью Pandas ответить на несколько вопросов по данным репозитория UCI [Adult](https://archive.ics.uci.edu/ml/datasets/Adult) (качать данные не надо – они уже есть в репозитории).**"
   ],
   "metadata": {
    "collapsed": false
   }
  },
  {
   "cell_type": "markdown",
   "metadata": {},
   "source": [
    "Уникальные значения признаков (больше информации по ссылке выше):\n",
    "- age: continuous.\n",
    "- workclass: Private, Self-emp-not-inc, Self-emp-inc, Federal-gov, Local-gov, State-gov, Without-pay, Never-worked.\n",
    "- fnlwgt: continuous.\n",
    "- education: Bachelors, Some-college, 11th, HS-grad, Prof-school, Assoc-acdm, Assoc-voc, 9th, 7th-8th, 12th, Masters, 1st-4th, 10th, Doctorate, 5th-6th, Preschool.\n",
    "- education-num: continuous.\n",
    "- marital-status: Married-civ-spouse, Divorced, Never-married, Separated, Widowed, Married-spouse-absent, Married-AF-spouse.\n",
    "- occupation: Tech-support, Craft-repair, Other-service, Sales, Exec-managerial, Prof-specialty, Handlers-cleaners, Machine-op-inspct, Adm-clerical, Farming-fishing, Transport-moving, Priv-house-serv, Protective-serv, Armed-Forces.\n",
    "- relationship: Wife, Own-child, Husband, Not-in-family, Other-relative, Unmarried.\n",
    "- race: White, Asian-Pac-Islander, Amer-Indian-Eskimo, Other, Black.\n",
    "- sex: Female, Male.\n",
    "- capital-gain: continuous.\n",
    "- capital-loss: continuous.\n",
    "- hours-per-week: continuous.\n",
    "- native-country: United-States, Cambodia, England, Puerto-Rico, Canada, Germany, Outlying-US(Guam-USVI-etc), India, Japan, Greece, South, China, Cuba, Iran, Honduras, Philippines, Italy, Poland, Jamaica, Vietnam, Mexico, Portugal, Ireland, France, Dominican-Republic, Laos, Ecuador, Taiwan, Haiti, Columbia, Hungary, Guatemala, Nicaragua, Scotland, Thailand, Yugoslavia, El-Salvador, Trinadad&Tobago, Peru, Hong, Holand-Netherlands.   \n",
    "- salary: >50K,<=50K"
   ]
  },
  {
   "cell_type": "code",
   "execution_count": 1,
   "metadata": {
    "ExecuteTime": {
     "end_time": "2023-06-21T10:08:40.197951112Z",
     "start_time": "2023-06-21T10:08:39.595208398Z"
    }
   },
   "outputs": [],
   "source": [
    "import pandas as pd"
   ]
  },
  {
   "cell_type": "code",
   "execution_count": 2,
   "metadata": {
    "ExecuteTime": {
     "end_time": "2023-06-21T10:08:40.280487058Z",
     "start_time": "2023-06-21T10:08:40.199435876Z"
    }
   },
   "outputs": [
    {
     "data": {
      "text/plain": "   age         workclass  fnlwgt  education  education-num  \\\n0   39         State-gov   77516  Bachelors             13   \n1   50  Self-emp-not-inc   83311  Bachelors             13   \n2   38           Private  215646    HS-grad              9   \n3   53           Private  234721       11th              7   \n4   28           Private  338409  Bachelors             13   \n\n       marital-status         occupation   relationship   race     sex  \\\n0       Never-married       Adm-clerical  Not-in-family  White    Male   \n1  Married-civ-spouse    Exec-managerial        Husband  White    Male   \n2            Divorced  Handlers-cleaners  Not-in-family  White    Male   \n3  Married-civ-spouse  Handlers-cleaners        Husband  Black    Male   \n4  Married-civ-spouse     Prof-specialty           Wife  Black  Female   \n\n   capital-gain  capital-loss  hours-per-week native-country salary  \n0          2174             0              40  United-States  <=50K  \n1             0             0              13  United-States  <=50K  \n2             0             0              40  United-States  <=50K  \n3             0             0              40  United-States  <=50K  \n4             0             0              40           Cuba  <=50K  ",
      "text/html": "<div>\n<style scoped>\n    .dataframe tbody tr th:only-of-type {\n        vertical-align: middle;\n    }\n\n    .dataframe tbody tr th {\n        vertical-align: top;\n    }\n\n    .dataframe thead th {\n        text-align: right;\n    }\n</style>\n<table border=\"1\" class=\"dataframe\">\n  <thead>\n    <tr style=\"text-align: right;\">\n      <th></th>\n      <th>age</th>\n      <th>workclass</th>\n      <th>fnlwgt</th>\n      <th>education</th>\n      <th>education-num</th>\n      <th>marital-status</th>\n      <th>occupation</th>\n      <th>relationship</th>\n      <th>race</th>\n      <th>sex</th>\n      <th>capital-gain</th>\n      <th>capital-loss</th>\n      <th>hours-per-week</th>\n      <th>native-country</th>\n      <th>salary</th>\n    </tr>\n  </thead>\n  <tbody>\n    <tr>\n      <th>0</th>\n      <td>39</td>\n      <td>State-gov</td>\n      <td>77516</td>\n      <td>Bachelors</td>\n      <td>13</td>\n      <td>Never-married</td>\n      <td>Adm-clerical</td>\n      <td>Not-in-family</td>\n      <td>White</td>\n      <td>Male</td>\n      <td>2174</td>\n      <td>0</td>\n      <td>40</td>\n      <td>United-States</td>\n      <td>&lt;=50K</td>\n    </tr>\n    <tr>\n      <th>1</th>\n      <td>50</td>\n      <td>Self-emp-not-inc</td>\n      <td>83311</td>\n      <td>Bachelors</td>\n      <td>13</td>\n      <td>Married-civ-spouse</td>\n      <td>Exec-managerial</td>\n      <td>Husband</td>\n      <td>White</td>\n      <td>Male</td>\n      <td>0</td>\n      <td>0</td>\n      <td>13</td>\n      <td>United-States</td>\n      <td>&lt;=50K</td>\n    </tr>\n    <tr>\n      <th>2</th>\n      <td>38</td>\n      <td>Private</td>\n      <td>215646</td>\n      <td>HS-grad</td>\n      <td>9</td>\n      <td>Divorced</td>\n      <td>Handlers-cleaners</td>\n      <td>Not-in-family</td>\n      <td>White</td>\n      <td>Male</td>\n      <td>0</td>\n      <td>0</td>\n      <td>40</td>\n      <td>United-States</td>\n      <td>&lt;=50K</td>\n    </tr>\n    <tr>\n      <th>3</th>\n      <td>53</td>\n      <td>Private</td>\n      <td>234721</td>\n      <td>11th</td>\n      <td>7</td>\n      <td>Married-civ-spouse</td>\n      <td>Handlers-cleaners</td>\n      <td>Husband</td>\n      <td>Black</td>\n      <td>Male</td>\n      <td>0</td>\n      <td>0</td>\n      <td>40</td>\n      <td>United-States</td>\n      <td>&lt;=50K</td>\n    </tr>\n    <tr>\n      <th>4</th>\n      <td>28</td>\n      <td>Private</td>\n      <td>338409</td>\n      <td>Bachelors</td>\n      <td>13</td>\n      <td>Married-civ-spouse</td>\n      <td>Prof-specialty</td>\n      <td>Wife</td>\n      <td>Black</td>\n      <td>Female</td>\n      <td>0</td>\n      <td>0</td>\n      <td>40</td>\n      <td>Cuba</td>\n      <td>&lt;=50K</td>\n    </tr>\n  </tbody>\n</table>\n</div>"
     },
     "execution_count": 2,
     "metadata": {},
     "output_type": "execute_result"
    }
   ],
   "source": [
    "data = pd.read_csv('adult.data.csv')\n",
    "data.head()"
   ]
  },
  {
   "cell_type": "markdown",
   "metadata": {},
   "source": [
    "**1. Сколько мужчин и женщин (признак *sex*) представлено в этом наборе данных?**"
   ]
  },
  {
   "cell_type": "code",
   "execution_count": 62,
   "outputs": [
    {
     "name": "stdout",
     "output_type": "stream",
     "text": [
      "sex\n",
      "Male      21790\n",
      "Female    10771\n",
      "Name: count, dtype: int64\n"
     ]
    }
   ],
   "source": [
    "sex_count = data['sex'].value_counts()\n",
    "print(sex_count)"
   ],
   "metadata": {
    "collapsed": false,
    "ExecuteTime": {
     "end_time": "2023-06-21T14:00:28.328438345Z",
     "start_time": "2023-06-21T14:00:28.325307477Z"
    }
   }
  },
  {
   "cell_type": "markdown",
   "metadata": {},
   "source": [
    "**2. Каков средний возраст (признак *age*) женщин?**"
   ]
  },
  {
   "cell_type": "code",
   "execution_count": 93,
   "metadata": {
    "collapsed": true,
    "ExecuteTime": {
     "end_time": "2023-06-21T19:40:10.498700103Z",
     "start_time": "2023-06-21T19:40:10.458606657Z"
    }
   },
   "outputs": [
    {
     "name": "stdout",
     "output_type": "stream",
     "text": [
      " Average age of women: 36.86\n"
     ]
    }
   ],
   "source": [
    "mean_age_women = data[data['sex'] == 'Female']['age'].mean()\n",
    "print(f\" Average age of women: {round(mean_age_women, 2)}\")"
   ]
  },
  {
   "cell_type": "markdown",
   "metadata": {},
   "source": [
    "**3. Какова доля граждан Германии (признак *native-country*)?**"
   ]
  },
  {
   "cell_type": "code",
   "execution_count": 108,
   "metadata": {
    "collapsed": true,
    "ExecuteTime": {
     "end_time": "2023-06-21T19:56:00.517568611Z",
     "start_time": "2023-06-21T19:56:00.513987968Z"
    }
   },
   "outputs": [
    {
     "name": "stdout",
     "output_type": "stream",
     "text": [
      "Percentage of German citizens in data: 0.42%\n"
     ]
    }
   ],
   "source": [
    "german_citizens_percentage = (data['native-country'] == 'Germany').mean()\n",
    "print(f\"Percentage of German citizens in data: {round(german_citizens_percentage * 100, 2)}%\")"
   ]
  },
  {
   "cell_type": "markdown",
   "metadata": {},
   "source": [
    "**4-5. Каковы средние значения и среднеквадратичные отклонения возраста тех, кто получает более 50K в год (признак *salary*) и тех, кто получает менее 50K в год? **"
   ]
  },
  {
   "cell_type": "code",
   "execution_count": 32,
   "metadata": {
    "collapsed": true,
    "ExecuteTime": {
     "end_time": "2023-06-21T13:29:08.021927459Z",
     "start_time": "2023-06-21T13:29:08.008694414Z"
    }
   },
   "outputs": [
    {
     "name": "stdout",
     "output_type": "stream",
     "text": [
      "             mean        std\n",
      "salary                      \n",
      "<=50K   36.783738  14.020088\n",
      ">50K    44.249841  10.519028\n"
     ]
    }
   ],
   "source": [
    "age_stats = data.groupby('salary')['age'].agg(['mean', 'std'])\n",
    "print(age_stats)"
   ]
  },
  {
   "cell_type": "markdown",
   "source": [
    "**6. Правда ли, что люди, которые получают больше 50k, имеют как минимум высшее образование? (признак *education – Bachelors, Prof-school, Assoc-acdm, Assoc-voc, Masters* или *Doctorate*)**"
   ],
   "metadata": {
    "collapsed": false
   }
  },
  {
   "cell_type": "code",
   "execution_count": 101,
   "metadata": {
    "collapsed": true,
    "ExecuteTime": {
     "end_time": "2023-06-21T19:47:34.027123773Z",
     "start_time": "2023-06-21T19:47:34.018179360Z"
    }
   },
   "outputs": [
    {
     "name": "stdout",
     "output_type": "stream",
     "text": [
      "No, not all people with salary over 50K have at least higher education.\n"
     ]
    }
   ],
   "source": [
    "high_education = ['Bachelors', 'Prof-school', 'Assoc-acdm', 'Assoc-voc', 'Masters', 'Doctorate']\n",
    "has_high_education = data[data['salary'] == '>50K']['education'].isin(high_education).all()\n",
    "\n",
    "if has_high_education:\n",
    "    print(\"Yes, all people with salary over 50K have at least higher education.\")\n",
    "else:\n",
    "    print(\"No, not all people with salary over 50K have at least higher education.\")"
   ]
  },
  {
   "cell_type": "markdown",
   "metadata": {},
   "source": [
    "**7. Выведите статистику возраста для каждой расы (признак *race*) и каждого пола. Используйте *groupby* и *describe*. Найдите таким образом максимальный возраст мужчин расы *Amer-Indian-Eskimo*.**"
   ]
  },
  {
   "cell_type": "code",
   "execution_count": 97,
   "metadata": {
    "collapsed": true,
    "ExecuteTime": {
     "end_time": "2023-06-21T19:42:40.651291497Z",
     "start_time": "2023-06-21T19:42:40.609165798Z"
    }
   },
   "outputs": [
    {
     "name": "stdout",
     "output_type": "stream",
     "text": [
      "                             count   mean    std   min   25%   50%    75%  \\\n",
      "race               sex                                                      \n",
      "Amer-Indian-Eskimo Female    119.0  37.12  13.11  17.0  27.0  36.0  46.00   \n",
      "                   Male      192.0  37.21  12.05  17.0  28.0  35.0  45.00   \n",
      "Asian-Pac-Islander Female    346.0  35.09  12.30  17.0  25.0  33.0  43.75   \n",
      "                   Male      693.0  39.07  12.88  18.0  29.0  37.0  46.00   \n",
      "Black              Female   1555.0  37.85  12.64  17.0  28.0  37.0  46.00   \n",
      "                   Male     1569.0  37.68  12.88  17.0  27.0  36.0  46.00   \n",
      "Other              Female    109.0  31.68  11.63  17.0  23.0  29.0  39.00   \n",
      "                   Male      162.0  34.65  11.36  17.0  26.0  32.0  42.00   \n",
      "White              Female   8642.0  36.81  14.33  17.0  25.0  35.0  46.00   \n",
      "                   Male    19174.0  39.65  13.44  17.0  29.0  38.0  49.00   \n",
      "\n",
      "                            max  \n",
      "race               sex           \n",
      "Amer-Indian-Eskimo Female  80.0  \n",
      "                   Male    82.0  \n",
      "Asian-Pac-Islander Female  75.0  \n",
      "                   Male    90.0  \n",
      "Black              Female  90.0  \n",
      "                   Male    90.0  \n",
      "Other              Female  74.0  \n",
      "                   Male    77.0  \n",
      "White              Female  90.0  \n",
      "                   Male    90.0  \n",
      "Max Amer-Indian-Eskimo male age: 82.0\n"
     ]
    }
   ],
   "source": [
    "race_gender_stats = data.groupby(['race', 'sex'])['age'].describe()\n",
    "print(round(race_gender_stats, 2))\n",
    "\n",
    "max_AmIndEs_male_age = race_gender_stats.loc[('Amer-Indian-Eskimo', 'Male'), 'max']\n",
    "print(f\"Max Amer-Indian-Eskimo male age: {max_AmIndEs_male_age}\")"
   ]
  },
  {
   "cell_type": "markdown",
   "metadata": {},
   "source": [
    "**8. Среди кого больше доля зарабатывающих много (>50K): среди женатых или холостых мужчин (признак *marital-status*)? Женатыми считаем тех, у кого *marital-status* начинается с *Married* (Married-civ-spouse, Married-spouse-absent или Married-AF-spouse), остальных считаем холостыми.**"
   ]
  },
  {
   "cell_type": "code",
   "execution_count": 105,
   "metadata": {
    "collapsed": true,
    "ExecuteTime": {
     "end_time": "2023-06-21T19:54:49.125475488Z",
     "start_time": "2023-06-21T19:54:49.074122165Z"
    }
   },
   "outputs": [
    {
     "name": "stdout",
     "output_type": "stream",
     "text": [
      "The majority receiving high salary (>50K) are married men.\n",
      "Married 85.91% | Single 14.09%\n"
     ]
    }
   ],
   "source": [
    "data['marital_status_binary'] = data['marital-status'].apply(lambda x: 1 if x.startswith('Married') else 0)\n",
    "grouped = data[data['salary'] == '>50K'].groupby('marital_status_binary')\n",
    "percentage_high_earning = grouped.size() / grouped.size().sum()\n",
    "if percentage_high_earning[1] > percentage_high_earning[0]:\n",
    "    print(\"The majority receiving high salary (>50K) are married men.\")\n",
    "else:\n",
    "    print(\"The majority receiving high salary (>50K) are among single men.\")\n",
    "print(f\"Married {round(percentage_high_earning[1] * 100, 2)}% | Single {round(percentage_high_earning[0] * 100, 2)}%\")"
   ]
  },
  {
   "cell_type": "markdown",
   "metadata": {},
   "source": [
    "**9. Какое максимальное число часов человек работает в неделю (признак *hours-per-week*)? Сколько людей работают такое количество часов и каков среди них процент зарабатывающих много?**"
   ]
  },
  {
   "cell_type": "code",
   "execution_count": 116,
   "metadata": {
    "collapsed": true,
    "ExecuteTime": {
     "end_time": "2023-06-21T19:57:45.227933380Z",
     "start_time": "2023-06-21T19:57:45.187459573Z"
    }
   },
   "outputs": [
    {
     "name": "stdout",
     "output_type": "stream",
     "text": [
      "\n",
      "Max working hours per week: 99h\n",
      "People working max hours: 85\n",
      "Percentage of people with high salary working max hours: 29.41%\n",
      "\n"
     ]
    }
   ],
   "source": [
    "max_work_hours = data['hours-per-week'].max()\n",
    "num_people = data[data['hours-per-week'] == max_work_hours].shape[0]\n",
    "high_salary_percentage = (data[(data['hours-per-week'] == max_work_hours) & (data['salary'] == '>50K')].shape[0] / num_people) * 100\n",
    "print(f'''\n",
    "Max working hours per week: {max_work_hours}h\n",
    "People working max hours: {num_people}\n",
    "Percentage of people with high salary working max hours: {round(high_salary_percentage, 2)}%\n",
    "''')"
   ]
  },
  {
   "cell_type": "markdown",
   "metadata": {},
   "source": [
    "**10. Посчитайте среднее время работы (*hours-per-week*) зарабатывающих мало и много (*salary*) для каждой страны (*native-country*).**"
   ]
  },
  {
   "cell_type": "code",
   "execution_count": 100,
   "metadata": {
    "collapsed": true,
    "ExecuteTime": {
     "end_time": "2023-06-21T19:44:23.506025095Z",
     "start_time": "2023-06-21T19:44:23.496355237Z"
    }
   },
   "outputs": [
    {
     "name": "stdout",
     "output_type": "stream",
     "text": [
      "salary  native-country \n",
      "<=50K   ?                  40.16\n",
      "        Cambodia           41.42\n",
      "        Canada             37.91\n",
      "        China              37.38\n",
      "        Columbia           38.68\n",
      "                           ...  \n",
      ">50K    Thailand           58.33\n",
      "        Trinadad&Tobago    40.00\n",
      "        United-States      45.51\n",
      "        Vietnam            39.20\n",
      "        Yugoslavia         49.50\n",
      "Name: hours-per-week, Length: 82, dtype: float64\n"
     ]
    }
   ],
   "source": [
    "work_hours_mean__salary_country = data.groupby(['salary', 'native-country'])['hours-per-week'].mean()\n",
    "print(round(work_hours_mean__salary_country, 2))"
   ]
  }
 ],
 "metadata": {
  "anaconda-cloud": {},
  "kernelspec": {
   "display_name": "Python 3",
   "language": "python",
   "name": "python3"
  },
  "language_info": {
   "codemirror_mode": {
    "name": "ipython",
    "version": 3
   },
   "file_extension": ".py",
   "mimetype": "text/x-python",
   "name": "python",
   "nbconvert_exporter": "python",
   "pygments_lexer": "ipython3",
   "version": "3.6.6"
  }
 },
 "nbformat": 4,
 "nbformat_minor": 1
}
