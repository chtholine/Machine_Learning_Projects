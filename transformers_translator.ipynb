{
 "cells": [
  {
   "cell_type": "markdown",
   "source": [
    "# Transformers Translator"
   ],
   "metadata": {
    "collapsed": false
   },
   "id": "ec678b0682e33b47"
  },
  {
   "cell_type": "markdown",
   "source": [
    "**Import Dependencies**"
   ],
   "metadata": {
    "collapsed": false
   },
   "id": "d3028a391c02cf7e"
  },
  {
   "cell_type": "code",
   "execution_count": 14,
   "outputs": [],
   "source": [
    "from transformers import T5ForConditionalGeneration, T5Tokenizer"
   ],
   "metadata": {
    "collapsed": false,
    "ExecuteTime": {
     "end_time": "2023-08-16T08:02:37.872610083Z",
     "start_time": "2023-08-16T08:02:37.871530748Z"
    }
   },
   "id": "7906c2c5fa601ea0"
  },
  {
   "cell_type": "markdown",
   "source": [
    "**Build the translator**"
   ],
   "metadata": {
    "collapsed": false
   },
   "id": "13240659f58d3161"
  },
  {
   "cell_type": "code",
   "execution_count": 24,
   "outputs": [],
   "source": [
    "def translate_text(\n",
    "    input_text, source_language, target_language, model_name=\"t5-base\", max_length=512\n",
    "):\n",
    "    # Load pre-trained T5 model and tokenizer\n",
    "    model = T5ForConditionalGeneration.from_pretrained(model_name)\n",
    "    tokenizer = T5Tokenizer.from_pretrained(model_name, model_max_length=max_length)\n",
    "\n",
    "    # Prepare input text and encode it\n",
    "    input_text = f\"translate {source_language} to {target_language}: {input_text}\"\n",
    "    input_ids = tokenizer.encode(input_text, return_tensors=\"pt\")\n",
    "\n",
    "    # Generate translation\n",
    "    translation = model.generate(\n",
    "        input_ids, max_length=max_length, num_beams=4, early_stopping=True\n",
    "    )\n",
    "    translated_text = tokenizer.decode(translation[0], skip_special_tokens=True)\n",
    "\n",
    "    return translated_text"
   ],
   "metadata": {
    "collapsed": false,
    "ExecuteTime": {
     "end_time": "2023-08-16T08:06:47.627618628Z",
     "start_time": "2023-08-16T08:06:47.583468354Z"
    }
   },
   "id": "1663240038a44e34"
  },
  {
   "cell_type": "markdown",
   "source": [
    "**Input your arguments**"
   ],
   "metadata": {
    "collapsed": false
   },
   "id": "e6b2c3960299d1c2"
  },
  {
   "cell_type": "code",
   "execution_count": 25,
   "outputs": [],
   "source": [
    "input_text = \"Hello, how are you?\"\n",
    "source_language = \"english\"\n",
    "target_language = \"french\""
   ],
   "metadata": {
    "collapsed": false,
    "ExecuteTime": {
     "end_time": "2023-08-16T08:06:50.495996445Z",
     "start_time": "2023-08-16T08:06:50.483556226Z"
    }
   },
   "id": "ec1c90f281f1df9f"
  },
  {
   "cell_type": "markdown",
   "source": [
    "**Run the translator**"
   ],
   "metadata": {
    "collapsed": false
   },
   "id": "e9f3d4f01db318be"
  },
  {
   "cell_type": "code",
   "execution_count": 28,
   "outputs": [
    {
     "name": "stdout",
     "output_type": "stream",
     "text": [
      "Source Text (english): Hello, how are you?\n",
      "Translated Text (french): Bonjour, comment êtes-vous?\n"
     ]
    }
   ],
   "source": [
    "translated_text = translate_text(input_text, source_language, target_language)\n",
    "print(f\"Source Text ({source_language}): {input_text}\")\n",
    "print(f\"Translated Text ({target_language}): {translated_text}\")"
   ],
   "metadata": {
    "collapsed": false,
    "ExecuteTime": {
     "end_time": "2023-08-16T08:10:19.468858094Z",
     "start_time": "2023-08-16T08:10:16.471801121Z"
    }
   },
   "id": "7eaa4533403fee79"
  },
  {
   "cell_type": "code",
   "execution_count": null,
   "outputs": [],
   "source": [],
   "metadata": {
    "collapsed": false
   },
   "id": "8f767daae3012905"
  }
 ],
 "metadata": {
  "kernelspec": {
   "display_name": "Python 3",
   "language": "python",
   "name": "python3"
  },
  "language_info": {
   "codemirror_mode": {
    "name": "ipython",
    "version": 2
   },
   "file_extension": ".py",
   "mimetype": "text/x-python",
   "name": "python",
   "nbconvert_exporter": "python",
   "pygments_lexer": "ipython2",
   "version": "2.7.6"
  }
 },
 "nbformat": 4,
 "nbformat_minor": 5
}
