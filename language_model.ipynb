{
 "cells": [
  {
   "cell_type": "markdown",
   "id": "eb32fb53a2522022",
   "metadata": {},
   "source": [
    "<h1>Review Classification using spaCy</h1>"
   ]
  },
  {
   "cell_type": "markdown",
   "id": "b55c9e3cdf3d36be",
   "metadata": {},
   "source": [
    "**Import Dependencies**"
   ]
  },
  {
   "cell_type": "code",
   "execution_count": 32,
   "id": "d33bbfad29c49c5b",
   "metadata": {
    "ExecuteTime": {
     "end_time": "2023-08-14T11:36:20.021894115Z",
     "start_time": "2023-08-14T11:36:19.967623385Z"
    }
   },
   "outputs": [],
   "source": [
    "import pandas as pd\n",
    "from sklearn.model_selection import train_test_split, GridSearchCV\n",
    "from sklearn.feature_extraction.text import CountVectorizer, TfidfTransformer\n",
    "from sklearn.pipeline import Pipeline\n",
    "from sklearn.naive_bayes import MultinomialNB\n",
    "from sklearn.metrics import accuracy_score, classification_report\n",
    "import spacy\n",
    "from matplotlib import pyplot as plt\n",
    "import seaborn as sns"
   ]
  },
  {
   "cell_type": "markdown",
   "id": "9086a4d84f39c9a2",
   "metadata": {},
   "source": [
    "**Load the spaCy English model**"
   ]
  },
  {
   "cell_type": "code",
   "execution_count": 2,
   "id": "62eef703e1d90136",
   "metadata": {
    "ExecuteTime": {
     "end_time": "2023-08-14T11:15:17.198486523Z",
     "start_time": "2023-08-14T11:15:16.526410644Z"
    }
   },
   "outputs": [],
   "source": [
    "nlp = spacy.load(\"en_core_web_sm\")"
   ]
  },
  {
   "cell_type": "markdown",
   "id": "7c3ada9ad881fa96",
   "metadata": {},
   "source": [
    "**Load the dataset**"
   ]
  },
  {
   "cell_type": "code",
   "execution_count": 3,
   "id": "9c25655ff2aac591",
   "metadata": {
    "ExecuteTime": {
     "end_time": "2023-08-14T11:15:17.932666794Z",
     "start_time": "2023-08-14T11:15:17.202299319Z"
    }
   },
   "outputs": [],
   "source": [
    "df = pd.read_csv(\"IMDB Dataset.csv\")"
   ]
  },
  {
   "cell_type": "markdown",
   "id": "23b6c4eb98829860",
   "metadata": {},
   "source": [
    "**Convert labels to binary: positive -> 1, negative -> 0**"
   ]
  },
  {
   "cell_type": "code",
   "execution_count": 4,
   "id": "18ed7a8c85a7a9d4",
   "metadata": {
    "ExecuteTime": {
     "end_time": "2023-08-14T11:15:17.950950362Z",
     "start_time": "2023-08-14T11:15:17.941971169Z"
    }
   },
   "outputs": [],
   "source": [
    "df['sentiment'] = df['sentiment'].map({'positive': 1, 'negative': 0})"
   ]
  },
  {
   "cell_type": "markdown",
   "id": "3fba88746d117e39",
   "metadata": {},
   "source": [
    "**Divide the dataset into training, validation, and test sets**"
   ]
  },
  {
   "cell_type": "code",
   "execution_count": 5,
   "id": "4752502cadb4cf1c",
   "metadata": {
    "ExecuteTime": {
     "end_time": "2023-08-14T11:15:17.986627647Z",
     "start_time": "2023-08-14T11:15:17.952922691Z"
    }
   },
   "outputs": [],
   "source": [
    "train_df, test_df = train_test_split(df, test_size=0.2, random_state=42)\n",
    "train_df, val_df = train_test_split(train_df, test_size=0.2, random_state=42)"
   ]
  },
  {
   "cell_type": "markdown",
   "id": "1b661cb9e8aed207",
   "metadata": {},
   "source": [
    "**Create a text classification pipeline**"
   ]
  },
  {
   "cell_type": "code",
   "execution_count": 6,
   "id": "1766676912d5ef74",
   "metadata": {
    "ExecuteTime": {
     "end_time": "2023-08-14T11:15:17.987096284Z",
     "start_time": "2023-08-14T11:15:17.973216093Z"
    }
   },
   "outputs": [],
   "source": [
    "base_model = Pipeline([\n",
    "    ('vectorizer', CountVectorizer()),\n",
    "    ('tfidf', TfidfTransformer()),\n",
    "    ('classifier', MultinomialNB())\n",
    "])"
   ]
  },
  {
   "cell_type": "markdown",
   "source": [
    "**Train the base model with default hyperparameters**"
   ],
   "metadata": {
    "collapsed": false
   },
   "id": "f9293ba596c958f1"
  },
  {
   "cell_type": "code",
   "execution_count": 7,
   "id": "395627915adf9e7e",
   "metadata": {
    "ExecuteTime": {
     "end_time": "2023-08-14T11:15:23.514922386Z",
     "start_time": "2023-08-14T11:15:17.978196641Z"
    }
   },
   "outputs": [
    {
     "data": {
      "text/plain": "Pipeline(steps=[('vectorizer', CountVectorizer()),\n                ('tfidf', TfidfTransformer()),\n                ('classifier', MultinomialNB())])",
      "text/html": "<style>#sk-container-id-1 {color: black;}#sk-container-id-1 pre{padding: 0;}#sk-container-id-1 div.sk-toggleable {background-color: white;}#sk-container-id-1 label.sk-toggleable__label {cursor: pointer;display: block;width: 100%;margin-bottom: 0;padding: 0.3em;box-sizing: border-box;text-align: center;}#sk-container-id-1 label.sk-toggleable__label-arrow:before {content: \"▸\";float: left;margin-right: 0.25em;color: #696969;}#sk-container-id-1 label.sk-toggleable__label-arrow:hover:before {color: black;}#sk-container-id-1 div.sk-estimator:hover label.sk-toggleable__label-arrow:before {color: black;}#sk-container-id-1 div.sk-toggleable__content {max-height: 0;max-width: 0;overflow: hidden;text-align: left;background-color: #f0f8ff;}#sk-container-id-1 div.sk-toggleable__content pre {margin: 0.2em;color: black;border-radius: 0.25em;background-color: #f0f8ff;}#sk-container-id-1 input.sk-toggleable__control:checked~div.sk-toggleable__content {max-height: 200px;max-width: 100%;overflow: auto;}#sk-container-id-1 input.sk-toggleable__control:checked~label.sk-toggleable__label-arrow:before {content: \"▾\";}#sk-container-id-1 div.sk-estimator input.sk-toggleable__control:checked~label.sk-toggleable__label {background-color: #d4ebff;}#sk-container-id-1 div.sk-label input.sk-toggleable__control:checked~label.sk-toggleable__label {background-color: #d4ebff;}#sk-container-id-1 input.sk-hidden--visually {border: 0;clip: rect(1px 1px 1px 1px);clip: rect(1px, 1px, 1px, 1px);height: 1px;margin: -1px;overflow: hidden;padding: 0;position: absolute;width: 1px;}#sk-container-id-1 div.sk-estimator {font-family: monospace;background-color: #f0f8ff;border: 1px dotted black;border-radius: 0.25em;box-sizing: border-box;margin-bottom: 0.5em;}#sk-container-id-1 div.sk-estimator:hover {background-color: #d4ebff;}#sk-container-id-1 div.sk-parallel-item::after {content: \"\";width: 100%;border-bottom: 1px solid gray;flex-grow: 1;}#sk-container-id-1 div.sk-label:hover label.sk-toggleable__label {background-color: #d4ebff;}#sk-container-id-1 div.sk-serial::before {content: \"\";position: absolute;border-left: 1px solid gray;box-sizing: border-box;top: 0;bottom: 0;left: 50%;z-index: 0;}#sk-container-id-1 div.sk-serial {display: flex;flex-direction: column;align-items: center;background-color: white;padding-right: 0.2em;padding-left: 0.2em;position: relative;}#sk-container-id-1 div.sk-item {position: relative;z-index: 1;}#sk-container-id-1 div.sk-parallel {display: flex;align-items: stretch;justify-content: center;background-color: white;position: relative;}#sk-container-id-1 div.sk-item::before, #sk-container-id-1 div.sk-parallel-item::before {content: \"\";position: absolute;border-left: 1px solid gray;box-sizing: border-box;top: 0;bottom: 0;left: 50%;z-index: -1;}#sk-container-id-1 div.sk-parallel-item {display: flex;flex-direction: column;z-index: 1;position: relative;background-color: white;}#sk-container-id-1 div.sk-parallel-item:first-child::after {align-self: flex-end;width: 50%;}#sk-container-id-1 div.sk-parallel-item:last-child::after {align-self: flex-start;width: 50%;}#sk-container-id-1 div.sk-parallel-item:only-child::after {width: 0;}#sk-container-id-1 div.sk-dashed-wrapped {border: 1px dashed gray;margin: 0 0.4em 0.5em 0.4em;box-sizing: border-box;padding-bottom: 0.4em;background-color: white;}#sk-container-id-1 div.sk-label label {font-family: monospace;font-weight: bold;display: inline-block;line-height: 1.2em;}#sk-container-id-1 div.sk-label-container {text-align: center;}#sk-container-id-1 div.sk-container {/* jupyter's `normalize.less` sets `[hidden] { display: none; }` but bootstrap.min.css set `[hidden] { display: none !important; }` so we also need the `!important` here to be able to override the default hidden behavior on the sphinx rendered scikit-learn.org. See: https://github.com/scikit-learn/scikit-learn/issues/21755 */display: inline-block !important;position: relative;}#sk-container-id-1 div.sk-text-repr-fallback {display: none;}</style><div id=\"sk-container-id-1\" class=\"sk-top-container\"><div class=\"sk-text-repr-fallback\"><pre>Pipeline(steps=[(&#x27;vectorizer&#x27;, CountVectorizer()),\n                (&#x27;tfidf&#x27;, TfidfTransformer()),\n                (&#x27;classifier&#x27;, MultinomialNB())])</pre><b>In a Jupyter environment, please rerun this cell to show the HTML representation or trust the notebook. <br />On GitHub, the HTML representation is unable to render, please try loading this page with nbviewer.org.</b></div><div class=\"sk-container\" hidden><div class=\"sk-item sk-dashed-wrapped\"><div class=\"sk-label-container\"><div class=\"sk-label sk-toggleable\"><input class=\"sk-toggleable__control sk-hidden--visually\" id=\"sk-estimator-id-1\" type=\"checkbox\" ><label for=\"sk-estimator-id-1\" class=\"sk-toggleable__label sk-toggleable__label-arrow\">Pipeline</label><div class=\"sk-toggleable__content\"><pre>Pipeline(steps=[(&#x27;vectorizer&#x27;, CountVectorizer()),\n                (&#x27;tfidf&#x27;, TfidfTransformer()),\n                (&#x27;classifier&#x27;, MultinomialNB())])</pre></div></div></div><div class=\"sk-serial\"><div class=\"sk-item\"><div class=\"sk-estimator sk-toggleable\"><input class=\"sk-toggleable__control sk-hidden--visually\" id=\"sk-estimator-id-2\" type=\"checkbox\" ><label for=\"sk-estimator-id-2\" class=\"sk-toggleable__label sk-toggleable__label-arrow\">CountVectorizer</label><div class=\"sk-toggleable__content\"><pre>CountVectorizer()</pre></div></div></div><div class=\"sk-item\"><div class=\"sk-estimator sk-toggleable\"><input class=\"sk-toggleable__control sk-hidden--visually\" id=\"sk-estimator-id-3\" type=\"checkbox\" ><label for=\"sk-estimator-id-3\" class=\"sk-toggleable__label sk-toggleable__label-arrow\">TfidfTransformer</label><div class=\"sk-toggleable__content\"><pre>TfidfTransformer()</pre></div></div></div><div class=\"sk-item\"><div class=\"sk-estimator sk-toggleable\"><input class=\"sk-toggleable__control sk-hidden--visually\" id=\"sk-estimator-id-4\" type=\"checkbox\" ><label for=\"sk-estimator-id-4\" class=\"sk-toggleable__label sk-toggleable__label-arrow\">MultinomialNB</label><div class=\"sk-toggleable__content\"><pre>MultinomialNB()</pre></div></div></div></div></div></div></div>"
     },
     "execution_count": 7,
     "metadata": {},
     "output_type": "execute_result"
    }
   ],
   "source": [
    "base_model.fit(train_df['review'], train_df['sentiment'])"
   ]
  },
  {
   "cell_type": "markdown",
   "id": "9813f944f5faeaba",
   "metadata": {},
   "source": [
    "**Evaluate the base model on the test set**"
   ]
  },
  {
   "cell_type": "code",
   "execution_count": 8,
   "id": "b43a57100fb04b70",
   "metadata": {
    "ExecuteTime": {
     "end_time": "2023-08-14T11:15:24.645227645Z",
     "start_time": "2023-08-14T11:15:23.545789675Z"
    }
   },
   "outputs": [
    {
     "name": "stdout",
     "output_type": "stream",
     "text": [
      "Test Accuracy (Base Model): 0.8608\n",
      "              precision    recall  f1-score   support\n",
      "\n",
      "           0       0.84      0.89      0.86      4961\n",
      "           1       0.89      0.83      0.86      5039\n",
      "\n",
      "    accuracy                           0.86     10000\n",
      "   macro avg       0.86      0.86      0.86     10000\n",
      "weighted avg       0.86      0.86      0.86     10000\n"
     ]
    }
   ],
   "source": [
    "test_predictions = base_model.predict(test_df['review'])\n",
    "test_accuracy = accuracy_score(test_df['sentiment'], test_predictions)\n",
    "print(\"Test Accuracy (Base Model):\", test_accuracy)\n",
    "print(classification_report(test_df['sentiment'], test_predictions))"
   ]
  },
  {
   "cell_type": "markdown",
   "id": "31f31f6144221d63",
   "metadata": {},
   "source": [
    "**Evaluate the base model on the validation set**"
   ]
  },
  {
   "cell_type": "code",
   "execution_count": 9,
   "id": "2dd51badb2078340",
   "metadata": {
    "ExecuteTime": {
     "end_time": "2023-08-14T11:15:25.557450857Z",
     "start_time": "2023-08-14T11:15:24.658055812Z"
    }
   },
   "outputs": [
    {
     "name": "stdout",
     "output_type": "stream",
     "text": [
      "Validation Accuracy (Base Model): 0.863\n",
      "              precision    recall  f1-score   support\n",
      "\n",
      "           0       0.84      0.90      0.87      3959\n",
      "           1       0.89      0.83      0.86      4041\n",
      "\n",
      "    accuracy                           0.86      8000\n",
      "   macro avg       0.86      0.86      0.86      8000\n",
      "weighted avg       0.87      0.86      0.86      8000\n"
     ]
    }
   ],
   "source": [
    "val_base_predictions = base_model.predict(val_df['review'])\n",
    "val_base_accuracy = accuracy_score(val_df['sentiment'], val_base_predictions)\n",
    "print(\"Validation Accuracy (Base Model):\", val_base_accuracy)\n",
    "print(classification_report(val_df['sentiment'], val_base_predictions))"
   ]
  },
  {
   "cell_type": "markdown",
   "id": "ae77ca88358e08e2",
   "metadata": {},
   "source": []
  },
  {
   "cell_type": "markdown",
   "id": "a8bfb626ebae7dd2",
   "metadata": {},
   "source": [
    "**Define hyperparameters**"
   ]
  },
  {
   "cell_type": "code",
   "execution_count": 10,
   "id": "43172e445c251247",
   "metadata": {
    "ExecuteTime": {
     "end_time": "2023-08-14T11:15:25.568213107Z",
     "start_time": "2023-08-14T11:15:25.558526279Z"
    }
   },
   "outputs": [],
   "source": [
    "param_grid = {\n",
    "    'vectorizer__ngram_range': [(1, 1), (1, 2)],  # Uni-gram and Bi-gram\n",
    "    'tfidf__use_idf': [True, False],\n",
    "    'classifier__alpha': [0.1, 0.01, 0.001, 0.0001]\n",
    "}"
   ]
  },
  {
   "cell_type": "markdown",
   "id": "57e185d5f947700e",
   "metadata": {},
   "source": [
    "**Perform hyperparameter tuning**"
   ]
  },
  {
   "cell_type": "code",
   "execution_count": 11,
   "id": "2cf12293d261dfcc",
   "metadata": {
    "ExecuteTime": {
     "end_time": "2023-08-14T11:23:32.284147786Z",
     "start_time": "2023-08-14T11:15:25.562126756Z"
    }
   },
   "outputs": [
    {
     "name": "stdout",
     "output_type": "stream",
     "text": [
      "Best Hyperparameters: {'classifier__alpha': 0.1, 'tfidf__use_idf': True, 'vectorizer__ngram_range': (1, 2)}\n"
     ]
    }
   ],
   "source": [
    "grid_search = GridSearchCV(base_model, param_grid, cv=3, scoring='accuracy')\n",
    "grid_search.fit(train_df['review'], train_df['sentiment'])\n",
    "print(\"Best Hyperparameters:\", grid_search.best_params_)\n",
    "best_model = grid_search.best_estimator_"
   ]
  },
  {
   "cell_type": "markdown",
   "id": "7259a39232ecdbb9",
   "metadata": {},
   "source": [
    "**Evaluate the tuned model on the test set**"
   ]
  },
  {
   "cell_type": "code",
   "execution_count": 12,
   "id": "f1aea1261260d21d",
   "metadata": {
    "ExecuteTime": {
     "end_time": "2023-08-14T11:23:35.906080413Z",
     "start_time": "2023-08-14T11:23:32.266796018Z"
    }
   },
   "outputs": [
    {
     "name": "stdout",
     "output_type": "stream",
     "text": [
      "Test Accuracy (Tuned Model): 0.8933\n",
      "              precision    recall  f1-score   support\n",
      "\n",
      "           0       0.88      0.90      0.89      4961\n",
      "           1       0.90      0.88      0.89      5039\n",
      "\n",
      "    accuracy                           0.89     10000\n",
      "   macro avg       0.89      0.89      0.89     10000\n",
      "weighted avg       0.89      0.89      0.89     10000\n"
     ]
    }
   ],
   "source": [
    "test_predictions = best_model.predict(test_df['review'])\n",
    "test_accuracy = accuracy_score(test_df['sentiment'], test_predictions)\n",
    "print(\"Test Accuracy (Tuned Model):\", test_accuracy)\n",
    "print(classification_report(test_df['sentiment'], test_predictions))"
   ]
  },
  {
   "cell_type": "markdown",
   "id": "28d692332d791ede",
   "metadata": {},
   "source": [
    "**Evaluate the tuned model on the validation set**"
   ]
  },
  {
   "cell_type": "code",
   "execution_count": 13,
   "id": "209e49960a69ca93",
   "metadata": {
    "ExecuteTime": {
     "end_time": "2023-08-14T11:23:38.983432739Z",
     "start_time": "2023-08-14T11:23:35.923331470Z"
    }
   },
   "outputs": [
    {
     "name": "stdout",
     "output_type": "stream",
     "text": [
      "Validation Accuracy (Tuned Model): 0.89725\n",
      "              precision    recall  f1-score   support\n",
      "\n",
      "           0       0.88      0.91      0.90      3959\n",
      "           1       0.91      0.88      0.90      4041\n",
      "\n",
      "    accuracy                           0.90      8000\n",
      "   macro avg       0.90      0.90      0.90      8000\n",
      "weighted avg       0.90      0.90      0.90      8000\n"
     ]
    }
   ],
   "source": [
    "val_predictions = best_model.predict(val_df['review'])\n",
    "val_accuracy = accuracy_score(val_df['sentiment'], val_predictions)\n",
    "print(\"Validation Accuracy (Tuned Model):\", val_accuracy)\n",
    "print(classification_report(val_df['sentiment'], val_predictions))"
   ]
  },
  {
   "cell_type": "markdown",
   "source": [
    "**Visualization of hyperparameter tuning**"
   ],
   "metadata": {
    "collapsed": false
   },
   "id": "1eecba171e49340f"
  },
  {
   "cell_type": "code",
   "execution_count": 37,
   "outputs": [
    {
     "data": {
      "text/plain": "<Figure size 640x480 with 2 Axes>",
      "image/png": "[encoded data removed]"
     },
     "metadata": {},
     "output_type": "display_data"
    }
   ],
   "source": [
    "# Visualize hyperparameter search results using a heatmap\n",
    "results = pd.DataFrame(grid_search.cv_results_)\n",
    "pivot_results = results.pivot_table(index='param_vectorizer__ngram_range',\n",
    "                                    columns=['param_tfidf__use_idf', 'param_classifier__alpha'],\n",
    "                                    values='mean_test_score')\n",
    "sns.heatmap(pivot_results, annot=True, cmap='binary')\n",
    "plt.title('Hyperparameter Search Results')\n",
    "plt.xlabel('TF-IDF Use IDF')\n",
    "plt.ylabel('Ngram Range')\n",
    "plt.show()"
   ],
   "metadata": {
    "collapsed": false,
    "ExecuteTime": {
     "end_time": "2023-08-14T11:48:07.366891163Z",
     "start_time": "2023-08-14T11:48:07.138786207Z"
    }
   },
   "id": "67199b03cc70b235"
  },
  {
   "cell_type": "markdown",
   "id": "d6bdada3a577b7ed",
   "metadata": {},
   "source": [
    "### Model testing"
   ]
  },
  {
   "cell_type": "markdown",
   "id": "438b22bb2f5ace09",
   "metadata": {},
   "source": [
    "**Predict sentiment using the trained model**"
   ]
  },
  {
   "cell_type": "code",
   "execution_count": 33,
   "id": "e98e56b5b8dc8c06",
   "metadata": {
    "ExecuteTime": {
     "end_time": "2023-08-14T11:36:28.065555450Z",
     "start_time": "2023-08-14T11:36:28.004814573Z"
    }
   },
   "outputs": [
    {
     "name": "stdout",
     "output_type": "stream",
     "text": [
      "Predicted Sentiment: positive\n"
     ]
    }
   ],
   "source": [
    "# Input review\n",
    "review = \"This movie was great.\"\n",
    "\n",
    "predicted_sentiment = best_model.predict([review])[0]\n",
    "predicted_sentiment_label = 'positive' if predicted_sentiment == 1 else 'negative'\n",
    "print(\"Predicted Sentiment:\", predicted_sentiment_label)"
   ]
  }
 ],
 "metadata": {
  "kernelspec": {
   "display_name": "Python 3 (ipykernel)",
   "language": "python",
   "name": "python3"
  },
  "language_info": {
   "codemirror_mode": {
    "name": "ipython",
    "version": 3
   },
   "file_extension": ".py",
   "mimetype": "text/x-python",
   "name": "python",
   "nbconvert_exporter": "python",
   "pygments_lexer": "ipython3",
   "version": "3.11.4"
  }
 },
 "nbformat": 4,
 "nbformat_minor": 5
}
