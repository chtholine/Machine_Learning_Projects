{
 "cells": [
  {
   "cell_type": "markdown",
   "source": [
    "# Class Balancing"
   ],
   "metadata": {
    "collapsed": false
   },
   "id": "c4988819950108f1"
  },
  {
   "cell_type": "markdown",
   "source": [
    "**Import Dependencies**"
   ],
   "metadata": {
    "collapsed": false
   },
   "id": "a3d07c3ad6faadf4"
  },
  {
   "cell_type": "code",
   "execution_count": 2,
   "outputs": [],
   "source": [
    "import numpy as np\n",
    "import pandas as pd\n",
    "from matplotlib import pyplot as plt\n",
    "from sklearn.model_selection import train_test_split\n",
    "from sklearn.preprocessing import StandardScaler\n",
    "from sklearn.linear_model import LogisticRegression\n",
    "from sklearn.model_selection import GridSearchCV\n",
    "from sklearn.metrics import accuracy_score, classification_report, confusion_matrix\n",
    "from imblearn.over_sampling import RandomOverSampler"
   ],
   "metadata": {
    "collapsed": false,
    "ExecuteTime": {
     "end_time": "2023-08-16T09:07:13.315148711Z",
     "start_time": "2023-08-16T09:07:12.864147755Z"
    }
   },
   "id": "initial_id"
  },
  {
   "cell_type": "markdown",
   "source": [
    "**Load the dataset**"
   ],
   "metadata": {
    "collapsed": false
   },
   "id": "1cadadbe86d5ebbf"
  },
  {
   "cell_type": "code",
   "execution_count": 3,
   "outputs": [
    {
     "name": "stdout",
     "output_type": "stream",
     "text": [
      "   Id       RI     Na    Mg    Al     Si     K    Ca   Ba   Fe  Type\n",
      "0   1  1.52101  13.64  4.49  1.10  71.78  0.06  8.75  0.0  0.0     1\n",
      "1   2  1.51761  13.89  3.60  1.36  72.73  0.48  7.83  0.0  0.0     1\n",
      "2   3  1.51618  13.53  3.55  1.54  72.99  0.39  7.78  0.0  0.0     1\n",
      "3   4  1.51766  13.21  3.69  1.29  72.61  0.57  8.22  0.0  0.0     1\n",
      "4   5  1.51742  13.27  3.62  1.24  73.08  0.55  8.07  0.0  0.0     1\n",
      "Id      0\n",
      "RI      0\n",
      "Na      0\n",
      "Mg      0\n",
      "Al      0\n",
      "Si      0\n",
      "K       0\n",
      "Ca      0\n",
      "Ba      0\n",
      "Fe      0\n",
      "Type    0\n",
      "dtype: int64\n"
     ]
    }
   ],
   "source": [
    "url = \"https://archive.ics.uci.edu/ml/machine-learning-databases/glass/glass.data\"\n",
    "names = [\"Id\", \"RI\", \"Na\", \"Mg\", \"Al\", \"Si\", \"K\", \"Ca\", \"Ba\", \"Fe\", \"Type\"]\n",
    "data = pd.read_csv(url, names=names)\n",
    "\n",
    "print(data.head())\n",
    "print(data.isnull().sum())"
   ],
   "metadata": {
    "collapsed": false,
    "ExecuteTime": {
     "end_time": "2023-08-16T09:07:14.490364872Z",
     "start_time": "2023-08-16T09:07:13.356465988Z"
    }
   },
   "id": "20854c977237c34f"
  },
  {
   "cell_type": "markdown",
   "source": [
    "**Separate features (X) and labels (y)**"
   ],
   "metadata": {
    "collapsed": false
   },
   "id": "73f63ccd90101f74"
  },
  {
   "cell_type": "code",
   "execution_count": 4,
   "outputs": [],
   "source": [
    "X = data.drop([\"Id\", \"Type\"], axis=1)\n",
    "y = data[\"Type\"]"
   ],
   "metadata": {
    "collapsed": false,
    "ExecuteTime": {
     "end_time": "2023-08-16T09:07:14.496307988Z",
     "start_time": "2023-08-16T09:07:14.490992609Z"
    }
   },
   "id": "77eeeddb45af01af"
  },
  {
   "cell_type": "markdown",
   "source": [
    "**Feature Engineering**"
   ],
   "metadata": {
    "collapsed": false
   },
   "id": "c704ec430afe4ab6"
  },
  {
   "cell_type": "code",
   "execution_count": 5,
   "outputs": [],
   "source": [
    "X[\"Light_elements\"] = X[\"Na\"] + X[\"Mg\"]\n",
    "X[\"Heavy_elements\"] = X[\"Al\"] + X[\"Si\"] + X[\"K\"] + X[\"Ca\"] + X[\"Ba\"] + X[\"Fe\"]\n",
    "X[\"Total_elements\"] = (\n",
    "        X[\"Na\"] + X[\"Mg\"] + X[\"Al\"] + X[\"Si\"] + X[\"K\"] + X[\"Ca\"] + X[\"Ba\"] + X[\"Fe\"]\n",
    ")"
   ],
   "metadata": {
    "collapsed": false,
    "ExecuteTime": {
     "end_time": "2023-08-16T09:07:14.508039450Z",
     "start_time": "2023-08-16T09:07:14.496824537Z"
    }
   },
   "id": "585dabe6b3ba6ddd"
  },
  {
   "cell_type": "markdown",
   "source": [
    "**Scaling**"
   ],
   "metadata": {
    "collapsed": false
   },
   "id": "609a51e68158cdb0"
  },
  {
   "cell_type": "code",
   "execution_count": 6,
   "outputs": [],
   "source": [
    "scaler = StandardScaler()\n",
    "X_scaled = scaler.fit_transform(X)"
   ],
   "metadata": {
    "collapsed": false,
    "ExecuteTime": {
     "end_time": "2023-08-16T09:07:14.553994081Z",
     "start_time": "2023-08-16T09:07:14.505289849Z"
    }
   },
   "id": "a89b197e03bf6e23"
  },
  {
   "cell_type": "markdown",
   "source": [
    "**Split the data into training, validation, and test sets**"
   ],
   "metadata": {
    "collapsed": false
   },
   "id": "20ba955208a8cd83"
  },
  {
   "cell_type": "code",
   "execution_count": 7,
   "outputs": [],
   "source": [
    "X_train, X_temp, y_train, y_temp = train_test_split(\n",
    "    X_scaled, y, test_size=0.3, random_state=42\n",
    ")\n",
    "X_val, X_test, y_val, y_test = train_test_split(\n",
    "    X_temp, y_temp, test_size=0.5, random_state=42\n",
    ")"
   ],
   "metadata": {
    "collapsed": false,
    "ExecuteTime": {
     "end_time": "2023-08-16T09:07:14.573014371Z",
     "start_time": "2023-08-16T09:07:14.513359927Z"
    }
   },
   "id": "ab7f62dd9687108f"
  },
  {
   "cell_type": "markdown",
   "source": [
    "**Apply RandomOverSampler to balance the class distribution**"
   ],
   "metadata": {
    "collapsed": false
   },
   "id": "5b1a1a43a9b0089b"
  },
  {
   "cell_type": "code",
   "execution_count": 8,
   "outputs": [],
   "source": [
    "ros = RandomOverSampler(random_state=42)\n",
    "X_train_resampled, y_train_resampled = ros.fit_resample(X_train, y_train)"
   ],
   "metadata": {
    "collapsed": false,
    "ExecuteTime": {
     "end_time": "2023-08-16T09:07:14.574115636Z",
     "start_time": "2023-08-16T09:07:14.554359703Z"
    }
   },
   "id": "78b451c2c300c5c6"
  },
  {
   "cell_type": "markdown",
   "source": [
    "**Train a Logistic Regression model on the resampled training data**"
   ],
   "metadata": {
    "collapsed": false
   },
   "id": "ece37896e51ecd54"
  },
  {
   "cell_type": "code",
   "execution_count": 9,
   "outputs": [
    {
     "data": {
      "text/plain": "LogisticRegression(max_iter=1000, random_state=42, solver='saga')",
      "text/html": "<style>#sk-container-id-1 {color: black;}#sk-container-id-1 pre{padding: 0;}#sk-container-id-1 div.sk-toggleable {background-color: white;}#sk-container-id-1 label.sk-toggleable__label {cursor: pointer;display: block;width: 100%;margin-bottom: 0;padding: 0.3em;box-sizing: border-box;text-align: center;}#sk-container-id-1 label.sk-toggleable__label-arrow:before {content: \"▸\";float: left;margin-right: 0.25em;color: #696969;}#sk-container-id-1 label.sk-toggleable__label-arrow:hover:before {color: black;}#sk-container-id-1 div.sk-estimator:hover label.sk-toggleable__label-arrow:before {color: black;}#sk-container-id-1 div.sk-toggleable__content {max-height: 0;max-width: 0;overflow: hidden;text-align: left;background-color: #f0f8ff;}#sk-container-id-1 div.sk-toggleable__content pre {margin: 0.2em;color: black;border-radius: 0.25em;background-color: #f0f8ff;}#sk-container-id-1 input.sk-toggleable__control:checked~div.sk-toggleable__content {max-height: 200px;max-width: 100%;overflow: auto;}#sk-container-id-1 input.sk-toggleable__control:checked~label.sk-toggleable__label-arrow:before {content: \"▾\";}#sk-container-id-1 div.sk-estimator input.sk-toggleable__control:checked~label.sk-toggleable__label {background-color: #d4ebff;}#sk-container-id-1 div.sk-label input.sk-toggleable__control:checked~label.sk-toggleable__label {background-color: #d4ebff;}#sk-container-id-1 input.sk-hidden--visually {border: 0;clip: rect(1px 1px 1px 1px);clip: rect(1px, 1px, 1px, 1px);height: 1px;margin: -1px;overflow: hidden;padding: 0;position: absolute;width: 1px;}#sk-container-id-1 div.sk-estimator {font-family: monospace;background-color: #f0f8ff;border: 1px dotted black;border-radius: 0.25em;box-sizing: border-box;margin-bottom: 0.5em;}#sk-container-id-1 div.sk-estimator:hover {background-color: #d4ebff;}#sk-container-id-1 div.sk-parallel-item::after {content: \"\";width: 100%;border-bottom: 1px solid gray;flex-grow: 1;}#sk-container-id-1 div.sk-label:hover label.sk-toggleable__label {background-color: #d4ebff;}#sk-container-id-1 div.sk-serial::before {content: \"\";position: absolute;border-left: 1px solid gray;box-sizing: border-box;top: 0;bottom: 0;left: 50%;z-index: 0;}#sk-container-id-1 div.sk-serial {display: flex;flex-direction: column;align-items: center;background-color: white;padding-right: 0.2em;padding-left: 0.2em;position: relative;}#sk-container-id-1 div.sk-item {position: relative;z-index: 1;}#sk-container-id-1 div.sk-parallel {display: flex;align-items: stretch;justify-content: center;background-color: white;position: relative;}#sk-container-id-1 div.sk-item::before, #sk-container-id-1 div.sk-parallel-item::before {content: \"\";position: absolute;border-left: 1px solid gray;box-sizing: border-box;top: 0;bottom: 0;left: 50%;z-index: -1;}#sk-container-id-1 div.sk-parallel-item {display: flex;flex-direction: column;z-index: 1;position: relative;background-color: white;}#sk-container-id-1 div.sk-parallel-item:first-child::after {align-self: flex-end;width: 50%;}#sk-container-id-1 div.sk-parallel-item:last-child::after {align-self: flex-start;width: 50%;}#sk-container-id-1 div.sk-parallel-item:only-child::after {width: 0;}#sk-container-id-1 div.sk-dashed-wrapped {border: 1px dashed gray;margin: 0 0.4em 0.5em 0.4em;box-sizing: border-box;padding-bottom: 0.4em;background-color: white;}#sk-container-id-1 div.sk-label label {font-family: monospace;font-weight: bold;display: inline-block;line-height: 1.2em;}#sk-container-id-1 div.sk-label-container {text-align: center;}#sk-container-id-1 div.sk-container {/* jupyter's `normalize.less` sets `[hidden] { display: none; }` but bootstrap.min.css set `[hidden] { display: none !important; }` so we also need the `!important` here to be able to override the default hidden behavior on the sphinx rendered scikit-learn.org. See: https://github.com/scikit-learn/scikit-learn/issues/21755 */display: inline-block !important;position: relative;}#sk-container-id-1 div.sk-text-repr-fallback {display: none;}</style><div id=\"sk-container-id-1\" class=\"sk-top-container\"><div class=\"sk-text-repr-fallback\"><pre>LogisticRegression(max_iter=1000, random_state=42, solver=&#x27;saga&#x27;)</pre><b>In a Jupyter environment, please rerun this cell to show the HTML representation or trust the notebook. <br />On GitHub, the HTML representation is unable to render, please try loading this page with nbviewer.org.</b></div><div class=\"sk-container\" hidden><div class=\"sk-item\"><div class=\"sk-estimator sk-toggleable\"><input class=\"sk-toggleable__control sk-hidden--visually\" id=\"sk-estimator-id-1\" type=\"checkbox\" checked><label for=\"sk-estimator-id-1\" class=\"sk-toggleable__label sk-toggleable__label-arrow\">LogisticRegression</label><div class=\"sk-toggleable__content\"><pre>LogisticRegression(max_iter=1000, random_state=42, solver=&#x27;saga&#x27;)</pre></div></div></div></div></div>"
     },
     "execution_count": 9,
     "metadata": {},
     "output_type": "execute_result"
    }
   ],
   "source": [
    "model = LogisticRegression(solver=\"saga\", penalty=\"l2\", max_iter=1000, random_state=42)\n",
    "model.fit(X_train_resampled, y_train_resampled)"
   ],
   "metadata": {
    "collapsed": false,
    "ExecuteTime": {
     "end_time": "2023-08-16T09:07:14.600459325Z",
     "start_time": "2023-08-16T09:07:14.554566574Z"
    }
   },
   "id": "45a472bc4cfb3c53"
  },
  {
   "cell_type": "markdown",
   "source": [
    "**Define hyperparameter grid and find the best model**"
   ],
   "metadata": {
    "collapsed": false
   },
   "id": "faf25dbc2c02fb9a"
  },
  {
   "cell_type": "code",
   "execution_count": 10,
   "outputs": [],
   "source": [
    "param_grid = {\"C\": [0.01, 0.1, 1, 10, 100]}\n",
    "grid_search = GridSearchCV(\n",
    "    LogisticRegression(random_state=42, max_iter=1000), param_grid, cv=5, n_jobs=-1\n",
    ")\n",
    "grid_search.fit(X_train_resampled, y_train_resampled)\n",
    "\n",
    "best_model = grid_search.best_estimator_"
   ],
   "metadata": {
    "collapsed": false,
    "ExecuteTime": {
     "end_time": "2023-08-16T09:07:16.686163382Z",
     "start_time": "2023-08-16T09:07:14.596618656Z"
    }
   },
   "id": "4b1fee65729fe1c8"
  },
  {
   "cell_type": "markdown",
   "source": [
    "**Evaluate the model on the validation set**"
   ],
   "metadata": {
    "collapsed": false
   },
   "id": "a4edb340a147c1f7"
  },
  {
   "cell_type": "code",
   "execution_count": 11,
   "outputs": [
    {
     "name": "stdout",
     "output_type": "stream",
     "text": [
      "Validation Accuracy:\"\n",
      "0.875\n",
      "\n",
      "\"Confusion Matrix:\"\n",
      "[[9 0 1 0 0 0]\n",
      " [2 6 1 0 0 0]\n",
      " [0 0 3 0 0 0]\n",
      " [0 0 0 3 0 0]\n",
      " [0 0 0 0 2 0]\n",
      " [0 0 0 0 0 5]]\n",
      "\n",
      "\"Classification Report:\"\n",
      "              precision    recall  f1-score   support\n",
      "\n",
      "           1       0.82      0.90      0.86        10\n",
      "           2       1.00      0.67      0.80         9\n",
      "           3       0.60      1.00      0.75         3\n",
      "           5       1.00      1.00      1.00         3\n",
      "           6       1.00      1.00      1.00         2\n",
      "           7       1.00      1.00      1.00         5\n",
      "\n",
      "    accuracy                           0.88        32\n",
      "   macro avg       0.90      0.93      0.90        32\n",
      "weighted avg       0.91      0.88      0.88        32\n"
     ]
    }
   ],
   "source": [
    "y_pred_val = best_model.predict(X_val)\n",
    "accuracy_val = accuracy_score(y_val, y_pred_val)\n",
    "confusion_val = confusion_matrix(y_val, y_pred_val)\n",
    "classification_report_val = classification_report(y_val, y_pred_val)\n",
    "\n",
    "print(\n",
    "    f\"\"\"Validation Accuracy:\"\n",
    "{accuracy_val}\n",
    "\n",
    "\"Confusion Matrix:\"\n",
    "{confusion_val}\n",
    "\n",
    "\"Classification Report:\"\n",
    "{classification_report_val}\n",
    "\"\"\"\n",
    ")"
   ],
   "metadata": {
    "collapsed": false,
    "ExecuteTime": {
     "end_time": "2023-08-16T09:07:16.735117019Z",
     "start_time": "2023-08-16T09:07:16.692024085Z"
    }
   },
   "id": "7d2dc9dec907a81f"
  },
  {
   "cell_type": "markdown",
   "source": [
    "**Evaluate the model on the test set**"
   ],
   "metadata": {
    "collapsed": false
   },
   "id": "bfad1d89f548f1a2"
  },
  {
   "cell_type": "code",
   "execution_count": 12,
   "outputs": [
    {
     "name": "stdout",
     "output_type": "stream",
     "text": [
      "Test Accuracy:\"\n",
      "0.5454545454545454\n",
      "\n",
      "\"Confusion Matrix:\"\n",
      "[[4 3 2 0 0 0]\n",
      " [2 7 3 1 1 0]\n",
      " [1 0 0 0 0 0]\n",
      " [0 0 1 2 0 0]\n",
      " [0 0 0 0 1 0]\n",
      " [1 0 0 0 0 4]]\n",
      "\n",
      "\"Classification Report:\"\n",
      "              precision    recall  f1-score   support\n",
      "\n",
      "           1       0.50      0.44      0.47         9\n",
      "           2       0.70      0.50      0.58        14\n",
      "           3       0.00      0.00      0.00         1\n",
      "           5       0.67      0.67      0.67         3\n",
      "           6       0.50      1.00      0.67         1\n",
      "           7       1.00      0.80      0.89         5\n",
      "\n",
      "    accuracy                           0.55        33\n",
      "   macro avg       0.56      0.57      0.55        33\n",
      "weighted avg       0.66      0.55      0.59        33\n",
      "\n"
     ]
    }
   ],
   "source": [
    "y_pred_test = best_model.predict(X_test)\n",
    "accuracy_test = accuracy_score(y_test, y_pred_test)\n",
    "confusion_test = confusion_matrix(y_test, y_pred_test)\n",
    "classification_report_test = classification_report(y_test, y_pred_test)\n",
    "\n",
    "print(\n",
    "    f\"\"\"Test Accuracy:\"\n",
    "{accuracy_test}\n",
    "\n",
    "\"Confusion Matrix:\"\n",
    "{confusion_test}\n",
    "\n",
    "\"Classification Report:\"\n",
    "{classification_report_test}\n",
    "\"\"\"\n",
    ")"
   ],
   "metadata": {
    "collapsed": false,
    "ExecuteTime": {
     "end_time": "2023-08-16T09:07:16.735939685Z",
     "start_time": "2023-08-16T09:07:16.734592926Z"
    }
   },
   "id": "dd4984fda0cdd697"
  },
  {
   "cell_type": "markdown",
   "source": [
    "**Display class distribution before and after resampling**"
   ],
   "metadata": {
    "collapsed": false
   },
   "id": "415cf7ebda5eb68a"
  },
  {
   "cell_type": "code",
   "execution_count": 13,
   "outputs": [
    {
     "data": {
      "text/plain": "<Figure size 800x500 with 1 Axes>",
      "image/png": "[encoded data removed]"
     },
     "metadata": {},
     "output_type": "display_data"
    },
    {
     "name": "stdout",
     "output_type": "stream",
     "text": [
      "Samples number in classes before resampling:\n",
      "Class 1: 51 samples\n",
      "Class 2: 53 samples\n",
      "Class 3: 13 samples\n",
      "Class 5: 7 samples\n",
      "Class 6: 6 samples\n",
      "Class 7: 19 samples\n"
     ]
    },
    {
     "data": {
      "text/plain": "<Figure size 800x500 with 1 Axes>",
      "image/png": "[encoded data removed]"
     },
     "metadata": {},
     "output_type": "display_data"
    },
    {
     "name": "stdout",
     "output_type": "stream",
     "text": [
      "Samples number in classes after resampling:\n",
      "Class 1: 53 samples\n",
      "Class 2: 53 samples\n",
      "Class 3: 53 samples\n",
      "Class 5: 53 samples\n",
      "Class 6: 53 samples\n",
      "Class 7: 53 samples\n"
     ]
    }
   ],
   "source": [
    "unique_classes, counts = np.unique(y_train, return_counts=True)\n",
    "\n",
    "plt.figure(figsize=(8, 5))\n",
    "plt.bar(unique_classes, counts)\n",
    "plt.xlabel(\"Class\")\n",
    "plt.ylabel(\"Samples\")\n",
    "plt.title(\"Samples number in classes before resampling\")\n",
    "plt.xticks(unique_classes)\n",
    "plt.show()\n",
    "\n",
    "print(\"Samples number in classes before resampling:\")\n",
    "for cls, count in zip(unique_classes, counts):\n",
    "    print(f\"Class {cls}: {count} samples\")\n",
    "\n",
    "unique_classes, counts = np.unique(y_train_resampled, return_counts=True)\n",
    "\n",
    "plt.figure(figsize=(8, 5))\n",
    "plt.bar(unique_classes, counts)\n",
    "plt.xlabel(\"Class\")\n",
    "plt.ylabel(\"Samples\")\n",
    "plt.title(\"Samples number in classes after resampling\")\n",
    "plt.xticks(unique_classes)\n",
    "plt.show()\n",
    "\n",
    "print(\"Samples number in classes after resampling:\")\n",
    "for cls, count in zip(unique_classes, counts):\n",
    "    print(f\"Class {cls}: {count} samples\")"
   ],
   "metadata": {
    "collapsed": false,
    "ExecuteTime": {
     "end_time": "2023-08-16T09:07:17.111292011Z",
     "start_time": "2023-08-16T09:07:16.734854134Z"
    }
   },
   "id": "1ddc4ae97db1332e"
  }
 ],
 "metadata": {
  "kernelspec": {
   "display_name": "Python 3",
   "language": "python",
   "name": "python3"
  },
  "language_info": {
   "codemirror_mode": {
    "name": "ipython",
    "version": 2
   },
   "file_extension": ".py",
   "mimetype": "text/x-python",
   "name": "python",
   "nbconvert_exporter": "python",
   "pygments_lexer": "ipython2",
   "version": "2.7.6"
  }
 },
 "nbformat": 4,
 "nbformat_minor": 5
}
