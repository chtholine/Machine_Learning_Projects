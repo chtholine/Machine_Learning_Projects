{
 "cells": [
  {
   "cell_type": "markdown",
   "source": [
    "# Tree Classifier"
   ],
   "metadata": {
    "collapsed": false
   },
   "id": "aacb8e3e570e9e23"
  },
  {
   "cell_type": "markdown",
   "source": [
    "**Import dependencies**"
   ],
   "metadata": {
    "collapsed": false
   },
   "id": "fded5af8372d9110"
  },
  {
   "cell_type": "code",
   "execution_count": 1,
   "outputs": [],
   "source": [
    "import pandas as pd\n",
    "from sklearn.impute import SimpleImputer\n",
    "from sklearn.model_selection import train_test_split\n",
    "from sklearn.tree import DecisionTreeClassifier\n",
    "from sklearn.preprocessing import StandardScaler\n",
    "from sklearn.pipeline import make_pipeline\n",
    "from sklearn.model_selection import GridSearchCV\n",
    "from sklearn.metrics import classification_report, accuracy_score\n",
    "import matplotlib.pyplot as plt\n",
    "import seaborn as sns"
   ],
   "metadata": {
    "collapsed": false,
    "ExecuteTime": {
     "end_time": "2023-08-16T10:07:51.901514245Z",
     "start_time": "2023-08-16T10:07:51.515675088Z"
    }
   },
   "id": "be0be5665750e9af"
  },
  {
   "cell_type": "markdown",
   "source": [
    "**Import and configure dataset**"
   ],
   "metadata": {
    "collapsed": false
   },
   "id": "56b1659f5d294cb"
  },
  {
   "cell_type": "code",
   "execution_count": 2,
   "outputs": [
    {
     "name": "stdout",
     "output_type": "stream",
     "text": [
      "      A2     A3    A8  A11    A14  A15 A16   A1_a   A1_b   A4_l  ...   A7_z  \\\n",
      "0  30.83  0.000  1.25    1  202.0    0   +  False   True  False  ...  False   \n",
      "1  58.67  4.460  3.04    6   43.0  560   +   True  False  False  ...  False   \n",
      "2  24.50  0.500  1.50    0  280.0  824   +   True  False  False  ...  False   \n",
      "3  27.83  1.540  3.75    5  100.0    3   +  False   True  False  ...  False   \n",
      "4  20.17  5.625  1.71    0  120.0    0   +  False   True  False  ...  False   \n",
      "\n",
      "    A9_f  A9_t  A10_f  A10_t  A12_f  A12_t  A13_g  A13_p  A13_s  \n",
      "0  False  True  False   True   True  False   True  False  False  \n",
      "1  False  True  False   True   True  False   True  False  False  \n",
      "2  False  True   True  False   True  False   True  False  False  \n",
      "3  False  True  False   True  False   True   True  False  False  \n",
      "4  False  True   True  False   True  False  False  False   True  \n",
      "\n",
      "[5 rows x 47 columns]\n",
      "<class 'pandas.core.frame.DataFrame'>\n",
      "RangeIndex: 690 entries, 0 to 689\n",
      "Data columns (total 47 columns):\n",
      " #   Column  Non-Null Count  Dtype  \n",
      "---  ------  --------------  -----  \n",
      " 0   A2      678 non-null    float64\n",
      " 1   A3      690 non-null    float64\n",
      " 2   A8      690 non-null    float64\n",
      " 3   A11     690 non-null    int64  \n",
      " 4   A14     677 non-null    float64\n",
      " 5   A15     690 non-null    int64  \n",
      " 6   A16     690 non-null    object \n",
      " 7   A1_a    690 non-null    bool   \n",
      " 8   A1_b    690 non-null    bool   \n",
      " 9   A4_l    690 non-null    bool   \n",
      " 10  A4_u    690 non-null    bool   \n",
      " 11  A4_y    690 non-null    bool   \n",
      " 12  A5_g    690 non-null    bool   \n",
      " 13  A5_gg   690 non-null    bool   \n",
      " 14  A5_p    690 non-null    bool   \n",
      " 15  A6_aa   690 non-null    bool   \n",
      " 16  A6_c    690 non-null    bool   \n",
      " 17  A6_cc   690 non-null    bool   \n",
      " 18  A6_d    690 non-null    bool   \n",
      " 19  A6_e    690 non-null    bool   \n",
      " 20  A6_ff   690 non-null    bool   \n",
      " 21  A6_i    690 non-null    bool   \n",
      " 22  A6_j    690 non-null    bool   \n",
      " 23  A6_k    690 non-null    bool   \n",
      " 24  A6_m    690 non-null    bool   \n",
      " 25  A6_q    690 non-null    bool   \n",
      " 26  A6_r    690 non-null    bool   \n",
      " 27  A6_w    690 non-null    bool   \n",
      " 28  A6_x    690 non-null    bool   \n",
      " 29  A7_bb   690 non-null    bool   \n",
      " 30  A7_dd   690 non-null    bool   \n",
      " 31  A7_ff   690 non-null    bool   \n",
      " 32  A7_h    690 non-null    bool   \n",
      " 33  A7_j    690 non-null    bool   \n",
      " 34  A7_n    690 non-null    bool   \n",
      " 35  A7_o    690 non-null    bool   \n",
      " 36  A7_v    690 non-null    bool   \n",
      " 37  A7_z    690 non-null    bool   \n",
      " 38  A9_f    690 non-null    bool   \n",
      " 39  A9_t    690 non-null    bool   \n",
      " 40  A10_f   690 non-null    bool   \n",
      " 41  A10_t   690 non-null    bool   \n",
      " 42  A12_f   690 non-null    bool   \n",
      " 43  A12_t   690 non-null    bool   \n",
      " 44  A13_g   690 non-null    bool   \n",
      " 45  A13_p   690 non-null    bool   \n",
      " 46  A13_s   690 non-null    bool   \n",
      "dtypes: bool(40), float64(4), int64(2), object(1)\n",
      "memory usage: 64.8+ KB\n",
      "None\n",
      "A2       12\n",
      "A3        0\n",
      "A8        0\n",
      "A11       0\n",
      "A14      13\n",
      "A15       0\n",
      "A16       0\n",
      "A1_a      0\n",
      "A1_b      0\n",
      "A4_l      0\n",
      "A4_u      0\n",
      "A4_y      0\n",
      "A5_g      0\n",
      "A5_gg     0\n",
      "A5_p      0\n",
      "A6_aa     0\n",
      "A6_c      0\n",
      "A6_cc     0\n",
      "A6_d      0\n",
      "A6_e      0\n",
      "A6_ff     0\n",
      "A6_i      0\n",
      "A6_j      0\n",
      "A6_k      0\n",
      "A6_m      0\n",
      "A6_q      0\n",
      "A6_r      0\n",
      "A6_w      0\n",
      "A6_x      0\n",
      "A7_bb     0\n",
      "A7_dd     0\n",
      "A7_ff     0\n",
      "A7_h      0\n",
      "A7_j      0\n",
      "A7_n      0\n",
      "A7_o      0\n",
      "A7_v      0\n",
      "A7_z      0\n",
      "A9_f      0\n",
      "A9_t      0\n",
      "A10_f     0\n",
      "A10_t     0\n",
      "A12_f     0\n",
      "A12_t     0\n",
      "A13_g     0\n",
      "A13_p     0\n",
      "A13_s     0\n",
      "dtype: int64\n",
      "A16    2\n",
      "dtype: int64\n"
     ]
    }
   ],
   "source": [
    "url = \"https://archive.ics.uci.edu/ml/machine-learning-databases/credit-screening/crx.data\"\n",
    "column_names = [\n",
    "    \"A1\",\n",
    "    \"A2\",\n",
    "    \"A3\",\n",
    "    \"A4\",\n",
    "    \"A5\",\n",
    "    \"A6\",\n",
    "    \"A7\",\n",
    "    \"A8\",\n",
    "    \"A9\",\n",
    "    \"A10\",\n",
    "    \"A11\",\n",
    "    \"A12\",\n",
    "    \"A13\",\n",
    "    \"A14\",\n",
    "    \"A15\",\n",
    "    \"A16\",\n",
    "]\n",
    "data = pd.read_csv(url, header=None, names=column_names, na_values=\"?\")\n",
    "data = pd.get_dummies(\n",
    "    data, columns=[\"A1\", \"A4\", \"A5\", \"A6\", \"A7\", \"A9\", \"A10\", \"A12\", \"A13\"]\n",
    ")\n",
    "\n",
    "print(data.head())\n",
    "print(data.info())\n",
    "print(data.isnull().sum())\n",
    "\n",
    "# unique values in categorical features\n",
    "print(data.select_dtypes(include=\"object\").nunique())"
   ],
   "metadata": {
    "collapsed": false,
    "ExecuteTime": {
     "end_time": "2023-08-16T10:07:53.669854609Z",
     "start_time": "2023-08-16T10:07:51.909129358Z"
    }
   },
   "id": "34d57d36ec8d1346"
  },
  {
   "cell_type": "markdown",
   "source": [
    "**Feature engineering**"
   ],
   "metadata": {
    "collapsed": false
   },
   "id": "19f051291d00f564"
  },
  {
   "cell_type": "code",
   "execution_count": 3,
   "outputs": [],
   "source": [
    "data[\"TotalIncome\"] = data[\"A11\"] + data[\"A15\"]\n",
    "scaler = StandardScaler()\n",
    "data[[\"A2\", \"A3\", \"A8\", \"A11\", \"A14\", \"A15\", \"TotalIncome\"]] = scaler.fit_transform(\n",
    "    data[[\"A2\", \"A3\", \"A8\", \"A11\", \"A14\", \"A15\", \"TotalIncome\"]]\n",
    ")"
   ],
   "metadata": {
    "collapsed": false,
    "ExecuteTime": {
     "end_time": "2023-08-16T10:07:53.692321268Z",
     "start_time": "2023-08-16T10:07:53.681276371Z"
    }
   },
   "id": "3aa1a2cfb442609f"
  },
  {
   "cell_type": "markdown",
   "source": [
    "**Separate features (X) and labels (y)**"
   ],
   "metadata": {
    "collapsed": false
   },
   "id": "b33c18b6c5de0d35"
  },
  {
   "cell_type": "code",
   "execution_count": 4,
   "outputs": [],
   "source": [
    "X = data.drop(\"A16\", axis=1)\n",
    "y = data[\"A16\"]"
   ],
   "metadata": {
    "collapsed": false,
    "ExecuteTime": {
     "end_time": "2023-08-16T10:07:53.713757972Z",
     "start_time": "2023-08-16T10:07:53.690127751Z"
    }
   },
   "id": "4079193fc2424ddc"
  },
  {
   "cell_type": "markdown",
   "source": [
    "**Split the data into training, validation, and test sets**"
   ],
   "metadata": {
    "collapsed": false
   },
   "id": "bdf94e96a6fa3652"
  },
  {
   "cell_type": "code",
   "execution_count": 5,
   "outputs": [],
   "source": [
    "X_train, X_temp, y_train, y_temp = train_test_split(\n",
    "    X, y, test_size=0.3, random_state=42\n",
    ")\n",
    "X_val, X_test, y_val, y_test = train_test_split(\n",
    "    X_temp, y_temp, test_size=0.5, random_state=42\n",
    ")"
   ],
   "metadata": {
    "collapsed": false,
    "ExecuteTime": {
     "end_time": "2023-08-16T10:07:53.746810457Z",
     "start_time": "2023-08-16T10:07:53.696150336Z"
    }
   },
   "id": "e8c0b13acf69d066"
  },
  {
   "cell_type": "markdown",
   "source": [
    "**Pipeline for filling in missing values and scaling features**"
   ],
   "metadata": {
    "collapsed": false
   },
   "id": "11ee0b86af36f86d"
  },
  {
   "cell_type": "code",
   "execution_count": 6,
   "outputs": [],
   "source": [
    "pipeline = make_pipeline(SimpleImputer(strategy=\"mean\"), StandardScaler())\n",
    "\n",
    "X_train = pipeline.fit_transform(X_train)\n",
    "X_val = pipeline.transform(X_val)\n",
    "X_test = pipeline.transform(X_test)"
   ],
   "metadata": {
    "collapsed": false,
    "ExecuteTime": {
     "end_time": "2023-08-16T10:07:53.747235933Z",
     "start_time": "2023-08-16T10:07:53.739552375Z"
    }
   },
   "id": "aff80a1ce401f797"
  },
  {
   "cell_type": "markdown",
   "source": [
    "**Train base model**"
   ],
   "metadata": {
    "collapsed": false
   },
   "id": "f1c798313b86ee93"
  },
  {
   "cell_type": "code",
   "execution_count": 7,
   "outputs": [
    {
     "data": {
      "text/plain": "DecisionTreeClassifier(random_state=42)",
      "text/html": "<style>#sk-container-id-1 {color: black;}#sk-container-id-1 pre{padding: 0;}#sk-container-id-1 div.sk-toggleable {background-color: white;}#sk-container-id-1 label.sk-toggleable__label {cursor: pointer;display: block;width: 100%;margin-bottom: 0;padding: 0.3em;box-sizing: border-box;text-align: center;}#sk-container-id-1 label.sk-toggleable__label-arrow:before {content: \"▸\";float: left;margin-right: 0.25em;color: #696969;}#sk-container-id-1 label.sk-toggleable__label-arrow:hover:before {color: black;}#sk-container-id-1 div.sk-estimator:hover label.sk-toggleable__label-arrow:before {color: black;}#sk-container-id-1 div.sk-toggleable__content {max-height: 0;max-width: 0;overflow: hidden;text-align: left;background-color: #f0f8ff;}#sk-container-id-1 div.sk-toggleable__content pre {margin: 0.2em;color: black;border-radius: 0.25em;background-color: #f0f8ff;}#sk-container-id-1 input.sk-toggleable__control:checked~div.sk-toggleable__content {max-height: 200px;max-width: 100%;overflow: auto;}#sk-container-id-1 input.sk-toggleable__control:checked~label.sk-toggleable__label-arrow:before {content: \"▾\";}#sk-container-id-1 div.sk-estimator input.sk-toggleable__control:checked~label.sk-toggleable__label {background-color: #d4ebff;}#sk-container-id-1 div.sk-label input.sk-toggleable__control:checked~label.sk-toggleable__label {background-color: #d4ebff;}#sk-container-id-1 input.sk-hidden--visually {border: 0;clip: rect(1px 1px 1px 1px);clip: rect(1px, 1px, 1px, 1px);height: 1px;margin: -1px;overflow: hidden;padding: 0;position: absolute;width: 1px;}#sk-container-id-1 div.sk-estimator {font-family: monospace;background-color: #f0f8ff;border: 1px dotted black;border-radius: 0.25em;box-sizing: border-box;margin-bottom: 0.5em;}#sk-container-id-1 div.sk-estimator:hover {background-color: #d4ebff;}#sk-container-id-1 div.sk-parallel-item::after {content: \"\";width: 100%;border-bottom: 1px solid gray;flex-grow: 1;}#sk-container-id-1 div.sk-label:hover label.sk-toggleable__label {background-color: #d4ebff;}#sk-container-id-1 div.sk-serial::before {content: \"\";position: absolute;border-left: 1px solid gray;box-sizing: border-box;top: 0;bottom: 0;left: 50%;z-index: 0;}#sk-container-id-1 div.sk-serial {display: flex;flex-direction: column;align-items: center;background-color: white;padding-right: 0.2em;padding-left: 0.2em;position: relative;}#sk-container-id-1 div.sk-item {position: relative;z-index: 1;}#sk-container-id-1 div.sk-parallel {display: flex;align-items: stretch;justify-content: center;background-color: white;position: relative;}#sk-container-id-1 div.sk-item::before, #sk-container-id-1 div.sk-parallel-item::before {content: \"\";position: absolute;border-left: 1px solid gray;box-sizing: border-box;top: 0;bottom: 0;left: 50%;z-index: -1;}#sk-container-id-1 div.sk-parallel-item {display: flex;flex-direction: column;z-index: 1;position: relative;background-color: white;}#sk-container-id-1 div.sk-parallel-item:first-child::after {align-self: flex-end;width: 50%;}#sk-container-id-1 div.sk-parallel-item:last-child::after {align-self: flex-start;width: 50%;}#sk-container-id-1 div.sk-parallel-item:only-child::after {width: 0;}#sk-container-id-1 div.sk-dashed-wrapped {border: 1px dashed gray;margin: 0 0.4em 0.5em 0.4em;box-sizing: border-box;padding-bottom: 0.4em;background-color: white;}#sk-container-id-1 div.sk-label label {font-family: monospace;font-weight: bold;display: inline-block;line-height: 1.2em;}#sk-container-id-1 div.sk-label-container {text-align: center;}#sk-container-id-1 div.sk-container {/* jupyter's `normalize.less` sets `[hidden] { display: none; }` but bootstrap.min.css set `[hidden] { display: none !important; }` so we also need the `!important` here to be able to override the default hidden behavior on the sphinx rendered scikit-learn.org. See: https://github.com/scikit-learn/scikit-learn/issues/21755 */display: inline-block !important;position: relative;}#sk-container-id-1 div.sk-text-repr-fallback {display: none;}</style><div id=\"sk-container-id-1\" class=\"sk-top-container\"><div class=\"sk-text-repr-fallback\"><pre>DecisionTreeClassifier(random_state=42)</pre><b>In a Jupyter environment, please rerun this cell to show the HTML representation or trust the notebook. <br />On GitHub, the HTML representation is unable to render, please try loading this page with nbviewer.org.</b></div><div class=\"sk-container\" hidden><div class=\"sk-item\"><div class=\"sk-estimator sk-toggleable\"><input class=\"sk-toggleable__control sk-hidden--visually\" id=\"sk-estimator-id-1\" type=\"checkbox\" checked><label for=\"sk-estimator-id-1\" class=\"sk-toggleable__label sk-toggleable__label-arrow\">DecisionTreeClassifier</label><div class=\"sk-toggleable__content\"><pre>DecisionTreeClassifier(random_state=42)</pre></div></div></div></div></div>"
     },
     "execution_count": 7,
     "metadata": {},
     "output_type": "execute_result"
    }
   ],
   "source": [
    "dt_classifier = DecisionTreeClassifier(random_state=42)\n",
    "dt_classifier.fit(X_train, y_train)"
   ],
   "metadata": {
    "collapsed": false,
    "ExecuteTime": {
     "end_time": "2023-08-16T10:07:53.749516961Z",
     "start_time": "2023-08-16T10:07:53.739754776Z"
    }
   },
   "id": "b288b196b2a64cd0"
  },
  {
   "cell_type": "markdown",
   "source": [
    "**Evaluate accuracy on the validation set**"
   ],
   "metadata": {
    "collapsed": false
   },
   "id": "b3348f1ffcbe669e"
  },
  {
   "cell_type": "code",
   "execution_count": 8,
   "outputs": [
    {
     "name": "stdout",
     "output_type": "stream",
     "text": [
      "Accuracy on the validation set: 0.7961\n"
     ]
    }
   ],
   "source": [
    "y_val_pred = dt_classifier.predict(X_val)\n",
    "accuracy_val = accuracy_score(y_val, y_val_pred)\n",
    "print(f\"Accuracy on the validation set: {accuracy_val:.4f}\")"
   ],
   "metadata": {
    "collapsed": false,
    "ExecuteTime": {
     "end_time": "2023-08-16T10:07:53.750206018Z",
     "start_time": "2023-08-16T10:07:53.739927494Z"
    }
   },
   "id": "bdba4127c498e905"
  },
  {
   "cell_type": "markdown",
   "source": [
    "**Define parameters for grid search and find best esimator**"
   ],
   "metadata": {
    "collapsed": false
   },
   "id": "5b882752427dd835"
  },
  {
   "cell_type": "code",
   "execution_count": 9,
   "outputs": [
    {
     "name": "stdout",
     "output_type": "stream",
     "text": [
      "The best hyperparameters:\n",
      "{'criterion': 'entropy', 'max_depth': None, 'min_samples_leaf': 2, 'min_samples_split': 2, 'splitter': 'best'}\n",
      "Accuracy on the validation set:\n",
      "0.8507731958762887\n",
      "Accuracy on the test set: 0.7885\n",
      "Classification report:\n",
      "              precision    recall  f1-score   support\n",
      "\n",
      "           +       0.78      0.74      0.76        47\n",
      "           -       0.80      0.82      0.81        57\n",
      "\n",
      "    accuracy                           0.79       104\n",
      "   macro avg       0.79      0.78      0.79       104\n",
      "weighted avg       0.79      0.79      0.79       104\n"
     ]
    }
   ],
   "source": [
    "param_grid = {\n",
    "    \"criterion\": [\"gini\", \"entropy\"],\n",
    "    \"splitter\": [\"best\", \"random\"],\n",
    "    \"max_depth\": [None, 5, 10, 15],\n",
    "    \"min_samples_split\": [2, 5, 10],\n",
    "    \"min_samples_leaf\": [1, 2, 4],\n",
    "}\n",
    "\n",
    "grid_search = GridSearchCV(\n",
    "    estimator=dt_classifier, param_grid=param_grid, cv=5, n_jobs=-1\n",
    ")\n",
    "grid_search.fit(X_train, y_train)\n",
    "print(f\"The best hyperparameters:\\n{grid_search.best_params_}\")\n",
    "print(f\"Accuracy on the validation set:\\n{grid_search.best_score_}\")\n",
    "y_test_pred = grid_search.best_estimator_.predict(X_test)\n",
    "accuracy_test = accuracy_score(y_test, y_test_pred)\n",
    "print(f\"Accuracy on the test set: {accuracy_test:.4f}\")\n",
    "print(f\"Classification report:\\n{classification_report(y_test, y_test_pred)}\")"
   ],
   "metadata": {
    "collapsed": false,
    "ExecuteTime": {
     "end_time": "2023-08-16T10:07:56.349829437Z",
     "start_time": "2023-08-16T10:07:53.740170054Z"
    }
   },
   "id": "15e2cebdbc8adcbe"
  },
  {
   "cell_type": "markdown",
   "source": [
    "**Visualization**"
   ],
   "metadata": {
    "collapsed": false
   },
   "id": "5b857c39ede739cd"
  },
  {
   "cell_type": "code",
   "execution_count": 10,
   "outputs": [
    {
     "data": {
      "text/plain": "<Figure size 800x600 with 2 Axes>",
      "image/png": "[encoded data removed]"
     },
     "metadata": {},
     "output_type": "display_data"
    },
    {
     "data": {
      "text/plain": "<Figure size 1000x600 with 1 Axes>",
      "image/png": "[encoded data removed]"
     },
     "metadata": {},
     "output_type": "display_data"
    }
   ],
   "source": [
    "y_test_pred = dt_classifier.predict(X_test)\n",
    "\n",
    "confusion_matrix = pd.crosstab(\n",
    "    y_test, y_test_pred, rownames=[\"Actual\"], colnames=[\"Predicted\"]\n",
    ")\n",
    "\n",
    "plt.figure(figsize=(8, 6))\n",
    "sns.heatmap(confusion_matrix, annot=True, cmap=\"Blues\", fmt=\"d\")\n",
    "plt.title(\"Confusion Matrix\")\n",
    "plt.show()\n",
    "\n",
    "feature_importance = dt_classifier.feature_importances_\n",
    "features = X.columns\n",
    "sorted_idx = feature_importance.argsort()\n",
    "\n",
    "num_features = 10\n",
    "\n",
    "plt.figure(figsize=(10, 6))\n",
    "plt.barh(\n",
    "    range(num_features), feature_importance[sorted_idx][-num_features:], align=\"center\"\n",
    ")\n",
    "plt.yticks(range(num_features), [features[i] for i in sorted_idx][-num_features:])\n",
    "plt.xlabel(\"Importance\")\n",
    "plt.ylabel(\"Features\")\n",
    "plt.title(\"Top 10 Important Features\")\n",
    "plt.show()"
   ],
   "metadata": {
    "collapsed": false,
    "ExecuteTime": {
     "end_time": "2023-08-16T10:07:56.771242364Z",
     "start_time": "2023-08-16T10:07:56.331815603Z"
    }
   },
   "id": "94517cdd14eedf1a"
  }
 ],
 "metadata": {
  "kernelspec": {
   "display_name": "Python 3",
   "language": "python",
   "name": "python3"
  },
  "language_info": {
   "codemirror_mode": {
    "name": "ipython",
    "version": 2
   },
   "file_extension": ".py",
   "mimetype": "text/x-python",
   "name": "python",
   "nbconvert_exporter": "python",
   "pygments_lexer": "ipython2",
   "version": "2.7.6"
  }
 },
 "nbformat": 4,
 "nbformat_minor": 5
}
