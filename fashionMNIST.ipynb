{
 "cells": [
  {
   "cell_type": "markdown",
   "source": [
    "# Fashion MNIST Classification (Dense Layers)"
   ],
   "metadata": {
    "collapsed": false
   },
   "id": "62e6b684f36c3780"
  },
  {
   "cell_type": "markdown",
   "source": [
    "**Import dependencies**"
   ],
   "metadata": {
    "collapsed": false
   },
   "id": "dd8da0d7f3a49c23"
  },
  {
   "cell_type": "code",
   "execution_count": 6,
   "outputs": [],
   "source": [
    "from keras.datasets import fashion_mnist\n",
    "from keras.models import Sequential\n",
    "from keras.layers import Dense, Flatten\n",
    "from keras.utils import to_categorical"
   ],
   "metadata": {
    "collapsed": false,
    "ExecuteTime": {
     "end_time": "2023-08-16T10:37:19.895164546Z",
     "start_time": "2023-08-16T10:37:19.792224708Z"
    }
   },
   "id": "initial_id"
  },
  {
   "cell_type": "markdown",
   "source": [
    "** Loading and preparing data **"
   ],
   "metadata": {
    "collapsed": false
   },
   "id": "64589366d2e1ec70"
  },
  {
   "cell_type": "code",
   "execution_count": 7,
   "outputs": [],
   "source": [
    "(x_train, y_train), (x_test, y_test) = fashion_mnist.load_data()\n",
    "x_train = x_train / 255.0\n",
    "x_test = x_test / 255.0\n",
    "y_train = to_categorical(y_train, num_classes=10)\n",
    "y_test = to_categorical(y_test, num_classes=10)"
   ],
   "metadata": {
    "collapsed": false,
    "ExecuteTime": {
     "end_time": "2023-08-16T10:37:20.221695300Z",
     "start_time": "2023-08-16T10:37:19.813147343Z"
    }
   },
   "id": "9be9440459cb6b18"
  },
  {
   "cell_type": "markdown",
   "source": [
    "**Model definition**"
   ],
   "metadata": {
    "collapsed": false
   },
   "id": "1e7c58a0f12ca42e"
  },
  {
   "cell_type": "code",
   "execution_count": 8,
   "outputs": [],
   "source": [
    "model = Sequential(\n",
    "    [\n",
    "        Flatten(input_shape=(28, 28)),\n",
    "        Dense(128, activation=\"relu\"),\n",
    "        Dense(64, activation=\"relu\"),\n",
    "        Dense(10, activation=\"softmax\"),\n",
    "    ]\n",
    ")"
   ],
   "metadata": {
    "collapsed": false,
    "ExecuteTime": {
     "end_time": "2023-08-16T10:37:20.262919119Z",
     "start_time": "2023-08-16T10:37:20.262354448Z"
    }
   },
   "id": "6fbea4abdf8c0cce"
  },
  {
   "cell_type": "markdown",
   "source": [
    "**Model compilation**"
   ],
   "metadata": {
    "collapsed": false
   },
   "id": "2b05df881dbe07d5"
  },
  {
   "cell_type": "code",
   "execution_count": 9,
   "outputs": [],
   "source": [
    "model.compile(optimizer=\"adam\", loss=\"categorical_crossentropy\", metrics=[\"accuracy\"])"
   ],
   "metadata": {
    "collapsed": false,
    "ExecuteTime": {
     "end_time": "2023-08-16T10:37:20.263481555Z",
     "start_time": "2023-08-16T10:37:20.262642126Z"
    }
   },
   "id": "7454da603e7588bd"
  },
  {
   "cell_type": "markdown",
   "source": [
    "**Model training**"
   ],
   "metadata": {
    "collapsed": false
   },
   "id": "902534eef5f28b9b"
  },
  {
   "cell_type": "code",
   "execution_count": 11,
   "outputs": [
    {
     "name": "stdout",
     "output_type": "stream",
     "text": [
      "Epoch 1/10\n"
     ]
    },
    {
     "name": "stderr",
     "output_type": "stream",
     "text": [
      "2023-08-16 13:37:21.060279: W tensorflow/tsl/framework/cpu_allocator_impl.cc:83] Allocation of 150528000 exceeds 10% of free system memory.\n"
     ]
    },
    {
     "name": "stdout",
     "output_type": "stream",
     "text": [
      "1500/1500 [==============================] - 5s 3ms/step - loss: 0.5105 - accuracy: 0.8203 - val_loss: 0.4048 - val_accuracy: 0.8557\n",
      "Epoch 2/10\n",
      "1500/1500 [==============================] - 5s 3ms/step - loss: 0.3763 - accuracy: 0.8632 - val_loss: 0.3796 - val_accuracy: 0.8618\n",
      "Epoch 3/10\n",
      "1500/1500 [==============================] - 4s 3ms/step - loss: 0.3390 - accuracy: 0.8760 - val_loss: 0.3669 - val_accuracy: 0.8651\n",
      "Epoch 4/10\n",
      "1500/1500 [==============================] - 4s 3ms/step - loss: 0.3123 - accuracy: 0.8839 - val_loss: 0.3451 - val_accuracy: 0.8777\n",
      "Epoch 5/10\n",
      "1500/1500 [==============================] - 4s 3ms/step - loss: 0.2959 - accuracy: 0.8906 - val_loss: 0.3342 - val_accuracy: 0.8773\n",
      "Epoch 6/10\n",
      "1500/1500 [==============================] - 5s 3ms/step - loss: 0.2795 - accuracy: 0.8941 - val_loss: 0.3551 - val_accuracy: 0.8786\n",
      "Epoch 7/10\n",
      "1500/1500 [==============================] - 4s 3ms/step - loss: 0.2684 - accuracy: 0.8990 - val_loss: 0.3536 - val_accuracy: 0.8787\n",
      "Epoch 8/10\n",
      "1500/1500 [==============================] - 4s 3ms/step - loss: 0.2573 - accuracy: 0.9048 - val_loss: 0.3191 - val_accuracy: 0.8892\n",
      "Epoch 9/10\n",
      "1500/1500 [==============================] - 4s 3ms/step - loss: 0.2458 - accuracy: 0.9072 - val_loss: 0.3094 - val_accuracy: 0.8892\n",
      "Epoch 10/10\n",
      "1500/1500 [==============================] - 4s 3ms/step - loss: 0.2389 - accuracy: 0.9090 - val_loss: 0.3122 - val_accuracy: 0.8919\n"
     ]
    },
    {
     "data": {
      "text/plain": "<keras.src.callbacks.History at 0x7fb5336b3450>"
     },
     "execution_count": 11,
     "metadata": {},
     "output_type": "execute_result"
    }
   ],
   "source": [
    "model.fit(x_train, y_train, epochs=10, batch_size=32, validation_split=0.2)"
   ],
   "metadata": {
    "collapsed": false,
    "ExecuteTime": {
     "end_time": "2023-08-16T10:38:06.693351919Z",
     "start_time": "2023-08-16T10:37:20.320201583Z"
    }
   },
   "id": "33aaea9b3c0c7e26"
  },
  {
   "cell_type": "markdown",
   "source": [
    "**Accuracy evaluation on the test set** "
   ],
   "metadata": {
    "collapsed": false
   },
   "id": "fc7c80234dc4fc4c"
  },
  {
   "cell_type": "code",
   "execution_count": 14,
   "outputs": [
    {
     "name": "stdout",
     "output_type": "stream",
     "text": [
      "313/313 [==============================] - 0s 1ms/step - loss: 0.3393 - accuracy: 0.8822\n",
      "Test accuracy: 0.8822000026702881\n",
      "Test loss: 0.33933112025260925\n"
     ]
    }
   ],
   "source": [
    "test_loss, test_acc = model.evaluate(x_test, y_test)\n",
    "print(f\"Test accuracy: {test_acc}\")\n",
    "print(f\"Test loss: {test_loss}\")"
   ],
   "metadata": {
    "collapsed": false,
    "ExecuteTime": {
     "end_time": "2023-08-16T10:42:22.402181100Z",
     "start_time": "2023-08-16T10:42:21.836657923Z"
    }
   },
   "id": "cbe64af66d9b9a70"
  }
 ],
 "metadata": {
  "kernelspec": {
   "display_name": "Python 3",
   "language": "python",
   "name": "python3"
  },
  "language_info": {
   "codemirror_mode": {
    "name": "ipython",
    "version": 2
   },
   "file_extension": ".py",
   "mimetype": "text/x-python",
   "name": "python",
   "nbconvert_exporter": "python",
   "pygments_lexer": "ipython2",
   "version": "2.7.6"
  }
 },
 "nbformat": 4,
 "nbformat_minor": 5
}
