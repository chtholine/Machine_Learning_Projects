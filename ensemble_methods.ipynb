{
 "cells": [
  {
   "cell_type": "markdown",
   "source": [
    "# Ensemble Methods"
   ],
   "metadata": {
    "collapsed": false
   },
   "id": "a487c4bc32709045"
  },
  {
   "cell_type": "markdown",
   "source": [
    "**Import dependencies**"
   ],
   "metadata": {
    "collapsed": false
   },
   "id": "d6d65a10da3d9ef4"
  },
  {
   "cell_type": "code",
   "execution_count": 1,
   "outputs": [],
   "source": [
    "import pandas as pd\n",
    "from matplotlib import pyplot as plt\n",
    "from sklearn.preprocessing import StandardScaler\n",
    "from sklearn.model_selection import train_test_split\n",
    "from sklearn.ensemble import (\n",
    "    RandomForestClassifier,\n",
    "    GradientBoostingClassifier,\n",
    "    BaggingClassifier,\n",
    "    StackingClassifier,\n",
    ")\n",
    "from sklearn.metrics import accuracy_score\n",
    "import seaborn as sns\n",
    "from sklearn.metrics import confusion_matrix\n",
    "from sklearn.model_selection import RandomizedSearchCV\n",
    "from sklearn.tree import DecisionTreeClassifier"
   ],
   "metadata": {
    "collapsed": false,
    "ExecuteTime": {
     "end_time": "2023-08-15T19:00:32.188265397Z",
     "start_time": "2023-08-15T19:00:31.802994194Z"
    }
   },
   "id": "4c94ed712f2a00e7"
  },
  {
   "cell_type": "markdown",
   "source": [
    "**Load and configure the dataset**"
   ],
   "metadata": {
    "collapsed": false
   },
   "id": "a99635dd78918d27"
  },
  {
   "cell_type": "code",
   "execution_count": 2,
   "outputs": [
    {
     "name": "stdout",
     "output_type": "stream",
     "text": [
      "   property.price  property.product  property.winner  verification.result  \\\n",
      "0              59                 1                0                False   \n",
      "1              59                 2                0                False   \n",
      "2              59                 4                0                False   \n",
      "3              59                 6                0                False   \n",
      "4              60                 1                0                 True   \n",
      "\n",
      "   verification.time  total_capacity  \n",
      "0         163.316667               3  \n",
      "1         200.860000               3  \n",
      "2         154.888889               3  \n",
      "3         108.640000               3  \n",
      "4          85.466667               3  \n"
     ]
    }
   ],
   "source": [
    "data = pd.read_csv(\"datasets/auction_data.csv\")\n",
    "\n",
    "data[\"total_capacity\"] = (\n",
    "    data[\"process.b1.capacity\"]\n",
    "    + data[\"process.b2.capacity\"]\n",
    "    + data[\"process.b3.capacity\"]\n",
    "    + data[\"process.b4.capacity\"]\n",
    ")\n",
    "data.drop(\n",
    "    columns=[\n",
    "        \"process.b1.capacity\",\n",
    "        \"process.b2.capacity\",\n",
    "        \"process.b3.capacity\",\n",
    "        \"process.b4.capacity\",\n",
    "    ],\n",
    "    inplace=True,\n",
    ")\n",
    "\n",
    "print(data.head())\n",
    "print(data.info())\n",
    "print(data.isnull().sum())"
   ],
   "metadata": {
    "collapsed": false,
    "ExecuteTime": {
     "end_time": "2023-08-15T19:00:32.255748824Z",
     "start_time": "2023-08-15T19:00:32.176542676Z"
    }
   },
   "id": "103fd24b7d5254a7"
  },
  {
   "cell_type": "markdown",
   "source": [
    "**Scaling and preparing feature matrix (X) and target vector (y)**"
   ],
   "metadata": {
    "collapsed": false
   },
   "id": "97ea8852c07d1929"
  },
  {
   "cell_type": "code",
   "execution_count": 3,
   "outputs": [],
   "source": [
    "scaler = StandardScaler()\n",
    "X = data.drop(columns=[\"verification.result\", \"verification.time\"])\n",
    "y = data[\"verification.result\"]\n",
    "X_scaled = scaler.fit_transform(X)"
   ],
   "metadata": {
    "collapsed": false,
    "ExecuteTime": {
     "end_time": "2023-08-15T19:00:32.260347201Z",
     "start_time": "2023-08-15T19:00:32.220991612Z"
    }
   },
   "id": "b8e93b0e7689032b"
  },
  {
   "cell_type": "markdown",
   "source": [
    "**Split the data into training, validation, and test sets**"
   ],
   "metadata": {
    "collapsed": false
   },
   "id": "8ae452472ba407d3"
  },
  {
   "cell_type": "code",
   "execution_count": 4,
   "outputs": [],
   "source": [
    "X_train, X_test, y_train, y_test = train_test_split(\n",
    "    X_scaled, y, test_size=0.3, random_state=42\n",
    ")\n",
    "X_train, X_val, y_train, y_val = train_test_split(\n",
    "    X_train, y_train, test_size=0.3, random_state=42\n",
    ")"
   ],
   "metadata": {
    "collapsed": false,
    "ExecuteTime": {
     "end_time": "2023-08-15T19:00:32.279437732Z",
     "start_time": "2023-08-15T19:00:32.221177670Z"
    }
   },
   "id": "6a6351b99c070b9"
  },
  {
   "cell_type": "markdown",
   "source": [
    "**Model training**"
   ],
   "metadata": {
    "collapsed": false
   },
   "id": "ba94ccd279285024"
  },
  {
   "cell_type": "code",
   "execution_count": 5,
   "outputs": [
    {
     "name": "stdout",
     "output_type": "stream",
     "text": [
      "Random Forest accuracy: 0.9766899766899767\n",
      "Gradient Boosting accuracy: 0.9696969696969697\n",
      "Bagging accuracy: 0.972027972027972\n"
     ]
    }
   ],
   "source": [
    "# Random Forest base model training\n",
    "rf_model = RandomForestClassifier(random_state=42)\n",
    "rf_model.fit(X_train, y_train)\n",
    "rf_pred = rf_model.predict(X_val)\n",
    "rf_accuracy = accuracy_score(y_val, rf_pred)\n",
    "print(\"Random Forest accuracy:\", rf_accuracy)\n",
    "\n",
    "# Gradient Boosting base model training\n",
    "gb_model = GradientBoostingClassifier(random_state=42)\n",
    "gb_model.fit(X_train, y_train)\n",
    "gb_pred = gb_model.predict(X_val)\n",
    "gb_accuracy = accuracy_score(y_val, gb_pred)\n",
    "print(\"Gradient Boosting accuracy:\", gb_accuracy)\n",
    "\n",
    "# Bagging base model training\n",
    "bg_model = BaggingClassifier(random_state=42)\n",
    "bg_model.fit(X_train, y_train)\n",
    "bg_pred = bg_model.predict(X_val)\n",
    "bg_accuracy = accuracy_score(y_val, bg_pred)\n",
    "print(\"Bagging accuracy:\", bg_accuracy)"
   ],
   "metadata": {
    "collapsed": false,
    "ExecuteTime": {
     "end_time": "2023-08-15T19:00:32.445366600Z",
     "start_time": "2023-08-15T19:00:32.261388820Z"
    }
   },
   "id": "5288649093a30272"
  },
  {
   "cell_type": "markdown",
   "source": [
    "**Define parameter grids for RandomizedSearchCV**"
   ],
   "metadata": {
    "collapsed": false
   },
   "id": "2e9878bf6cde4357"
  },
  {
   "cell_type": "code",
   "execution_count": 6,
   "outputs": [],
   "source": [
    "\n",
    "rf_params = {\n",
    "    \"n_estimators\": [50, 100, 200],\n",
    "    \"max_depth\": [None, 10, 20],\n",
    "    \"min_samples_split\": [2, 5, 10],\n",
    "    \"min_samples_leaf\": [1, 2, 4],\n",
    "}\n",
    "\n",
    "gb_params = {\n",
    "    \"n_estimators\": [50, 100, 200],\n",
    "    \"learning_rate\": [0.1, 0.05, 0.01],\n",
    "    \"max_depth\": [3, 5, 7],\n",
    "    \"min_samples_split\": [2, 5, 10],\n",
    "    \"min_samples_leaf\": [1, 2, 4],\n",
    "}\n",
    "\n",
    "bg_params = {\n",
    "    \"n_estimators\": [50, 100, 200],\n",
    "    \"max_samples\": [0.5, 1.0],\n",
    "    \"max_features\": [0.5, 1.0],\n",
    "}\n"
   ],
   "metadata": {
    "collapsed": false,
    "ExecuteTime": {
     "end_time": "2023-08-15T19:00:32.492471545Z",
     "start_time": "2023-08-15T19:00:32.486425140Z"
    }
   },
   "id": "5beace4184a6c73d"
  },
  {
   "cell_type": "markdown",
   "source": [
    "**Perform RandomizedSearchCV for each base model**"
   ],
   "metadata": {
    "collapsed": false
   },
   "id": "6a7276f2f1f2a0e5"
  },
  {
   "cell_type": "code",
   "execution_count": 7,
   "outputs": [
    {
     "name": "stdout",
     "output_type": "stream",
     "text": [
      "\n",
      "Best parameters for Random Forest: {'n_estimators': 50, 'min_samples_split': 2, 'min_samples_leaf': 1, 'max_depth': None}\n",
      "Best parameters for Gradient Boosting: {'n_estimators': 200, 'min_samples_split': 5, 'min_samples_leaf': 1, 'max_depth': 5, 'learning_rate': 0.05}\n",
      "Best parameters for Bagging: {'n_estimators': 200, 'max_samples': 1.0, 'max_features': 1.0}\n"
     ]
    }
   ],
   "source": [
    "rf_random = RandomizedSearchCV(\n",
    "    RandomForestClassifier(random_state=42), rf_params, n_iter=10, cv=5, random_state=42\n",
    ")\n",
    "rf_random.fit(X_train, y_train)\n",
    "\n",
    "gb_random = RandomizedSearchCV(\n",
    "    GradientBoostingClassifier(random_state=42),\n",
    "    gb_params,\n",
    "    n_iter=10,\n",
    "    cv=5,\n",
    "    random_state=42,\n",
    ")\n",
    "gb_random.fit(X_train, y_train)\n",
    "\n",
    "bg_random = RandomizedSearchCV(\n",
    "    BaggingClassifier(random_state=42), bg_params, n_iter=10, cv=5, random_state=42\n",
    ")\n",
    "bg_random.fit(X_train, y_train)\n",
    "\n",
    "print(\"\\nBest parameters for Random Forest:\", rf_random.best_params_)\n",
    "print(\"Best parameters for Gradient Boosting:\", gb_random.best_params_)\n",
    "print(\"Best parameters for Bagging:\", bg_random.best_params_)"
   ],
   "metadata": {
    "collapsed": false,
    "ExecuteTime": {
     "end_time": "2023-08-15T19:00:53.886529456Z",
     "start_time": "2023-08-15T19:00:32.486746691Z"
    }
   },
   "id": "dd532896f7e4c332"
  },
  {
   "cell_type": "markdown",
   "source": [
    "**Get best estimator models**"
   ],
   "metadata": {
    "collapsed": false
   },
   "id": "dcd5cf5899efbcfe"
  },
  {
   "cell_type": "code",
   "execution_count": null,
   "outputs": [],
   "source": [
    "rf_best_model = rf_random.best_estimator_\n",
    "gb_best_model = gb_random.best_estimator_\n",
    "bg_best_model = bg_random.best_estimator_"
   ],
   "metadata": {
    "collapsed": false
   },
   "id": "560f75d780488f32"
  },
  {
   "cell_type": "markdown",
   "source": [
    "**Evaluate model accuracy on the validation set**"
   ],
   "metadata": {
    "collapsed": false
   },
   "id": "6daefb888740e8fd"
  },
  {
   "cell_type": "code",
   "execution_count": 8,
   "outputs": [
    {
     "name": "stdout",
     "output_type": "stream",
     "text": [
      "\n",
      "Random Forest accuracy on the validation set: 0.9743589743589743\n",
      "Gradient Boosting accuracy on the validation set: 0.9766899766899767\n",
      "Bagging accuracy on the validation set: 0.9743589743589743\n"
     ]
    }
   ],
   "source": [
    "rf_val_pred = rf_best_model.predict(X_val)\n",
    "gb_val_pred = gb_best_model.predict(X_val)\n",
    "bg_val_pred = bg_best_model.predict(X_val)\n",
    "\n",
    "rf_val_accuracy = accuracy_score(y_val, rf_val_pred)\n",
    "gb_val_accuracy = accuracy_score(y_val, gb_val_pred)\n",
    "bg_val_accuracy = accuracy_score(y_val, bg_val_pred)\n",
    "\n",
    "print(\"\\nRandom Forest accuracy on the validation set:\", rf_val_accuracy)\n",
    "print(\"Gradient Boosting accuracy on the validation set:\", gb_val_accuracy)\n",
    "print(\"Bagging accuracy on the validation set:\", bg_val_accuracy)"
   ],
   "metadata": {
    "collapsed": false,
    "ExecuteTime": {
     "start_time": "2023-08-15T19:00:53.889519659Z"
    }
   },
   "id": "4f55a7a3c05dad7f"
  },
  {
   "cell_type": "markdown",
   "source": [
    "**Evaluate model accuracy on the test set**"
   ],
   "metadata": {
    "collapsed": false
   },
   "id": "d1e8d2d0a8966862"
  },
  {
   "cell_type": "code",
   "execution_count": 9,
   "outputs": [
    {
     "name": "stdout",
     "output_type": "stream",
     "text": [
      "\n",
      "Random Forest accuracy on the test set: 0.9722675367047309\n",
      "Gradient Boosting accuracy on the test set: 0.9690048939641109\n",
      "Bagging accuracy on the test set: 0.9706362153344209\n"
     ]
    }
   ],
   "source": [
    "rf_test_pred = rf_best_model.predict(X_test)\n",
    "gb_test_pred = gb_best_model.predict(X_test)\n",
    "bg_test_pred = bg_best_model.predict(X_test)\n",
    "\n",
    "rf_test_accuracy = accuracy_score(y_test, rf_test_pred)\n",
    "gb_test_accuracy = accuracy_score(y_test, gb_test_pred)\n",
    "bg_test_accuracy = accuracy_score(y_test, bg_test_pred)\n",
    "\n",
    "print(\"\\nRandom Forest accuracy on the test set:\", rf_test_accuracy)\n",
    "print(\"Gradient Boosting accuracy on the test set:\", gb_test_accuracy)\n",
    "print(\"Bagging accuracy on the test set:\", bg_test_accuracy)"
   ],
   "metadata": {
    "collapsed": false,
    "ExecuteTime": {
     "end_time": "2023-08-15T19:00:53.974414203Z",
     "start_time": "2023-08-15T19:00:53.973192811Z"
    }
   },
   "id": "65299ef534605ad"
  },
  {
   "cell_type": "markdown",
   "source": [
    "**Perform stacking**"
   ],
   "metadata": {
    "collapsed": false
   },
   "id": "74d5cc8428bfc0e8"
  },
  {
   "cell_type": "code",
   "execution_count": 10,
   "outputs": [
    {
     "name": "stdout",
     "output_type": "stream",
     "text": [
      "\n",
      "Stacking accuracy on the validation set: 0.9440559440559441\n",
      "Stacking accuracy on the test set: 0.9396411092985318\n"
     ]
    }
   ],
   "source": [
    "estimators = [(\"rf\", rf_best_model), (\"gb\", gb_best_model), (\"bg\", bg_best_model)]\n",
    "\n",
    "stacking_classifier = StackingClassifier(\n",
    "    estimators=estimators, final_estimator=DecisionTreeClassifier()\n",
    ")\n",
    "stacking_classifier.fit(X_train, y_train)\n",
    "\n",
    "stacking_val_pred = stacking_classifier.predict(X_val)\n",
    "stacking_val_accuracy = accuracy_score(y_val, stacking_val_pred)\n",
    "print(\"\\nStacking accuracy on the validation set:\", stacking_val_accuracy)\n",
    "\n",
    "stacking_test_pred = stacking_classifier.predict(X_test)\n",
    "stacking_test_accuracy = accuracy_score(y_test, stacking_test_pred)\n",
    "print(\"Stacking accuracy on the test set:\", stacking_test_accuracy)"
   ],
   "metadata": {
    "collapsed": false,
    "ExecuteTime": {
     "end_time": "2023-08-15T19:00:57.396836600Z",
     "start_time": "2023-08-15T19:00:54.014227675Z"
    }
   },
   "id": "ff649143e950d0d1"
  },
  {
   "cell_type": "markdown",
   "source": [
    "**Visualization**"
   ],
   "metadata": {
    "collapsed": false
   },
   "id": "8c7be0d2ef953a4a"
  },
  {
   "cell_type": "code",
   "execution_count": 11,
   "outputs": [
    {
     "data": {
      "text/plain": "<Figure size 600x400 with 2 Axes>",
      "image/png": "[encoded data removed]"
     },
     "metadata": {},
     "output_type": "display_data"
    },
    {
     "data": {
      "text/plain": "<Figure size 600x400 with 2 Axes>",
      "image/png": "[encoded data removed]"
     },
     "metadata": {},
     "output_type": "display_data"
    },
    {
     "data": {
      "text/plain": "<Figure size 600x400 with 2 Axes>",
      "image/png": "[encoded data removed]"
     },
     "metadata": {},
     "output_type": "display_data"
    },
    {
     "data": {
      "text/plain": "<Figure size 600x400 with 2 Axes>",
      "image/png": "[encoded data removed]"
     },
     "metadata": {},
     "output_type": "display_data"
    }
   ],
   "source": [
    "plt.figure(figsize=(6, 4))\n",
    "sns.heatmap(confusion_matrix(y_test, rf_test_pred), annot=True, fmt=\"d\", cmap=\"Blues\")\n",
    "plt.title(\"Confusion Matrix - Random Forest\")\n",
    "plt.xlabel(\"Predicted Label\")\n",
    "plt.ylabel(\"True Label\")\n",
    "plt.show()\n",
    "\n",
    "plt.figure(figsize=(6, 4))\n",
    "sns.heatmap(confusion_matrix(y_test, gb_test_pred), annot=True, fmt=\"d\", cmap=\"Greens\")\n",
    "plt.title(\"Confusion Matrix - Gradient Boosting\")\n",
    "plt.xlabel(\"Predicted Label\")\n",
    "plt.ylabel(\"True Label\")\n",
    "plt.show()\n",
    "\n",
    "plt.figure(figsize=(6, 4))\n",
    "sns.heatmap(confusion_matrix(y_test, bg_test_pred), annot=True, fmt=\"d\", cmap=\"Oranges\")\n",
    "plt.title(\"Confusion Matrix - Bagging\")\n",
    "plt.xlabel(\"Predicted Label\")\n",
    "plt.ylabel(\"True Label\")\n",
    "plt.show()\n",
    "\n",
    "plt.figure(figsize=(6, 4))\n",
    "sns.heatmap(\n",
    "    confusion_matrix(y_test, stacking_test_pred), annot=True, fmt=\"d\", cmap=\"Purples\"\n",
    ")\n",
    "plt.title(\"Confusion Matrix - Stacking (Test)\")\n",
    "plt.xlabel(\"Predicted Label\")\n",
    "plt.ylabel(\"True Label\")\n",
    "plt.show()"
   ],
   "metadata": {
    "collapsed": false,
    "ExecuteTime": {
     "end_time": "2023-08-15T19:00:58.053582917Z",
     "start_time": "2023-08-15T19:00:57.438102919Z"
    }
   },
   "id": "13c8f6ce190d2188"
  }
 ],
 "metadata": {
  "kernelspec": {
   "display_name": "Python 3",
   "language": "python",
   "name": "python3"
  },
  "language_info": {
   "codemirror_mode": {
    "name": "ipython",
    "version": 2
   },
   "file_extension": ".py",
   "mimetype": "text/x-python",
   "name": "python",
   "nbconvert_exporter": "python",
   "pygments_lexer": "ipython2",
   "version": "2.7.6"
  }
 },
 "nbformat": 4,
 "nbformat_minor": 5
}
